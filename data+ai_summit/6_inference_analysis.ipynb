{
 "cells": [
  {
   "cell_type": "markdown",
   "id": "370cca89",
   "metadata": {},
   "source": [
    "---\n",
    "title: \"Inference Analysis\"\n",
    "date: 2021-04-25\n",
    "type: technical_note\n",
    "draft: false\n",
    "---"
   ]
  },
  {
   "cell_type": "markdown",
   "id": "b6102117",
   "metadata": {},
   "source": [
    "## Check monitoring analysis\n",
    "\n",
    "Collect statistics, outliers and drift detections from Parquet and Kafka."
   ]
  },
  {
   "cell_type": "code",
   "execution_count": 1,
   "id": "a42b63b0",
   "metadata": {},
   "outputs": [
    {
     "name": "stdout",
     "output_type": "stream",
     "text": [
      "Starting Spark application\n"
     ]
    },
    {
     "data": {
      "text/html": [
       "<table>\n",
       "<tr><th>ID</th><th>YARN Application ID</th><th>Kind</th><th>State</th><th>Spark UI</th><th>Driver log</th></tr><tr><td>14</td><td>application_1620032599856_0032</td><td>pyspark</td><td>idle</td><td><a target=\"_blank\" href=\"/hopsworks-api/yarnui/https://javierhead.h.w:8089/proxy/application_1620032599856_0032/\">Link</a></td><td><a target=\"_blank\" href=\"/hopsworks-api/yarnui/https://javiergpu01.h.w:8044/node/containerlogs/container_1620032599856_0032_01_000001/card_fraud__meb10000\">Link</a></td></tr></table>"
      ],
      "text/plain": [
       "<IPython.core.display.HTML object>"
      ]
     },
     "metadata": {},
     "output_type": "display_data"
    },
    {
     "name": "stdout",
     "output_type": "stream",
     "text": [
      "SparkSession available as 'spark'.\n"
     ]
    }
   ],
   "source": [
    "from hops import hdfs\n",
    "import pyarrow.parquet as pq\n",
    "from hops import kafka\n",
    "from hops import tls\n",
    "from confluent_kafka import Producer, Consumer\n",
    "import json\n",
    "\n",
    "import pandas as pd\n",
    "pd.options.display.max_columns = None\n",
    "pd.options.display.max_rows = None"
   ]
  },
  {
   "cell_type": "markdown",
   "id": "b36cdc0c",
   "metadata": {},
   "source": [
    "### Inference Statistics"
   ]
  },
  {
   "cell_type": "markdown",
   "id": "051e98a5",
   "metadata": {},
   "source": [
    "Read inference statistics from parquet files"
   ]
  },
  {
   "cell_type": "code",
   "execution_count": 2,
   "id": "a808ac4e",
   "metadata": {},
   "outputs": [],
   "source": [
    "MONITORING_DIR = \"hdfs:///Projects/\" + hdfs.project_name() + \"/Resources/CardFraudDetection/Monitoring/\"\n",
    "LOGS_STATS_DIR =  MONITORING_DIR + \"credit_card_activity_stats-parquet/\"\n",
    "credit_card_activity_stats = spark.read.parquet(LOGS_STATS_DIR + \"*.parquet\")"
   ]
  },
  {
   "cell_type": "code",
   "execution_count": 3,
   "id": "46e9b0ee",
   "metadata": {},
   "outputs": [],
   "source": [
    "credit_card_activity_stats.createOrReplaceTempView(\"credit_card_activity_stats\")"
   ]
  },
  {
   "cell_type": "code",
   "execution_count": 4,
   "id": "011e0c80",
   "metadata": {},
   "outputs": [],
   "source": [
    "desc_stats_df = spark.sql(\"SELECT window, feature, min, max, mean, stddev FROM credit_card_activity_stats ORDER BY window\")\n",
    "distr_stats_df = spark.sql(\"SELECT feature, distr FROM credit_card_activity_stats ORDER BY window\")\n",
    "corr_stats_df = spark.sql(\"SELECT window, feature, corr FROM credit_card_activity_stats ORDER BY window\")\n",
    "cov_stats_df = spark.sql(\"SELECT feature, cov FROM credit_card_activity_stats ORDER BY window\")"
   ]
  },
  {
   "cell_type": "markdown",
   "id": "ef95e6ca",
   "metadata": {},
   "source": [
    "#### Descriptive statistics"
   ]
  },
  {
   "cell_type": "code",
   "execution_count": 5,
   "id": "83fe72c7",
   "metadata": {},
   "outputs": [
    {
     "name": "stdout",
     "output_type": "stream",
     "text": [
      "+------------------------------------------+-----------------+------+------------------+------+-------+\n",
      "|window                                    |feature          |min   |max               |mean  |stddev |\n",
      "+------------------------------------------+-----------------+------+------------------+------+-------+\n",
      "|[2021-05-04 06:41:20, 2021-05-04 06:41:26]|num_trans_per_10m|1.2   |8491.63           |197.45|1480.08|\n",
      "|[2021-05-04 06:41:20, 2021-05-04 06:41:26]|avg_amt_per_10m  |1.0   |3.0               |0.05  |0.34   |\n",
      "|[2021-05-04 06:41:20, 2021-05-04 06:41:26]|num_trans_per_1h |1.44  |9441.65           |219.54|1863.76|\n",
      "|[2021-05-04 06:41:20, 2021-05-04 06:41:26]|avg_amt_per_12h  |3.0   |15.0              |0.28  |2.85   |\n",
      "|[2021-05-04 06:41:20, 2021-05-04 06:41:26]|num_trans_per_12h|34.489|1956.6783333333333|44.7  |557.39 |\n",
      "|[2021-05-04 06:41:20, 2021-05-04 06:41:26]|avg_amt_per_1h   |1.0   |3.0               |0.05  |0.67   |\n",
      "+------------------------------------------+-----------------+------+------------------+------+-------+\n",
      "only showing top 6 rows\n",
      "\n",
      "None"
     ]
    }
   ],
   "source": [
    "print(desc_stats_df.show(6, truncate=False))"
   ]
  },
  {
   "cell_type": "markdown",
   "id": "ae0dd255",
   "metadata": {},
   "source": [
    "#### Distributions"
   ]
  },
  {
   "cell_type": "code",
   "execution_count": 6,
   "id": "44314798",
   "metadata": {},
   "outputs": [
    {
     "name": "stdout",
     "output_type": "stream",
     "text": [
      "+-----------------+-----------------------------------------------------------------------------------------------------------------------------------------------------------------------------------------------------------------------------------------------------------+\n",
      "|feature          |distr                                                                                                                                                                                                                                                      |\n",
      "+-----------------+-----------------------------------------------------------------------------------------------------------------------------------------------------------------------------------------------------------------------------------------------------------+\n",
      "|num_trans_per_10m|[5894264.812000004 -> 0.0, 14735662.030000009 -> 0.0, 8841397.218000006 -> 0.0, 23577059.248000015 -> 0.0, 11788529.624000007 -> 0.0, 0.0 -> 43.0, 17682794.43600001 -> 0.0, 20629926.84200001 -> 0.0, 2947132.406000002 -> 0.0, 26524191.654000018 -> 0.0]|\n",
      "|avg_amt_per_10m  |[711.11 -> 0.0, 155074.10599999997 -> 0.0, 69316.88 -> 0.0, 103619.77399999999 -> 0.0, 17862.55 -> 0.0, 35013.99 -> 0.0, 120771.218 -> 0.0, 86468.33 -> 0.0, 52165.44 -> 0.0, 137922.66199999998 -> 0.0]                                                   |\n",
      "|num_trans_per_1h |[4.9224 -> 0.0, 13.2696 -> 0.0, 11.1828 -> 0.0, 5.9658 -> 1.0, 9.096 -> 0.0, 8.0526 -> 0.0, 12.2262 -> 0.0, 3.879 -> 0.0, 7.0092 -> 0.0, 10.1394 -> 0.0]                                                                                                   |\n",
      "|avg_amt_per_12h  |[217.11592611999998 -> 0.0, 136.18088068 -> 0.0, 146.29776135999998 -> 0.0, 176.6484034 -> 0.0, 186.76528408 -> 0.0, 166.53152272 -> 0.0, 206.99904543999997 -> 0.0, 156.41464204 -> 0.0, 196.88216476 -> 0.0, 126.064 -> 0.0]                             |\n",
      "|num_trans_per_12h|[4.9224 -> 0.0, 13.2696 -> 0.0, 11.1828 -> 0.0, 5.9658 -> 0.0, 9.096 -> 0.0, 8.0526 -> 0.0, 12.2262 -> 0.0, 3.879 -> 0.0, 7.0092 -> 0.0, 10.1394 -> 0.0]                                                                                                   |\n",
      "|avg_amt_per_1h   |[49.04 -> 0.0, 38.82 -> 0.0, -2.06 -> 43.0, 18.380000000000003 -> 0.0, 59.260000000000005 -> 0.0, 79.7 -> 0.0, 89.92 -> 0.0, 28.600000000000005 -> 0.0, 69.48 -> 0.0, 8.16 -> 0.0]                                                                         |\n",
      "+-----------------+-----------------------------------------------------------------------------------------------------------------------------------------------------------------------------------------------------------------------------------------------------------+\n",
      "only showing top 6 rows\n",
      "\n",
      "None"
     ]
    }
   ],
   "source": [
    "print(distr_stats_df.show(6, truncate=False))"
   ]
  },
  {
   "cell_type": "markdown",
   "id": "cc68edd9",
   "metadata": {},
   "source": [
    "#### Correlations"
   ]
  },
  {
   "cell_type": "code",
   "execution_count": 7,
   "id": "233b0737",
   "metadata": {},
   "outputs": [
    {
     "name": "stdout",
     "output_type": "stream",
     "text": [
      "+------------------------------------------+-----------------+-------------------------------------------------------------------------------------------------------------------------------------+\n",
      "|window                                    |feature          |corr                                                                                                                                 |\n",
      "+------------------------------------------+-----------------+-------------------------------------------------------------------------------------------------------------------------------------+\n",
      "|[2021-05-04 06:41:20, 2021-05-04 06:41:26]|num_trans_per_10m|[avg_amt_per_10m -> 0.01, avg_amt_per_12h -> 0.0, num_trans_per_1h -> -0.09, avg_amt_per_1h -> -0.18, num_trans_per_12h -> 0.07]     |\n",
      "|[2021-05-04 06:41:20, 2021-05-04 06:41:26]|avg_amt_per_10m  |[avg_amt_per_12h -> -0.14, num_trans_per_1h -> 0.24, avg_amt_per_1h -> -0.13, num_trans_per_12h -> -0.26, num_trans_per_10m -> 0.01] |\n",
      "|[2021-05-04 06:41:20, 2021-05-04 06:41:26]|num_trans_per_1h |[avg_amt_per_10m -> 0.24, avg_amt_per_12h -> 0.03, avg_amt_per_1h -> -0.07, num_trans_per_12h -> -0.12, num_trans_per_10m -> -0.09]  |\n",
      "|[2021-05-04 06:41:20, 2021-05-04 06:41:26]|avg_amt_per_12h  |[avg_amt_per_10m -> -0.14, num_trans_per_1h -> 0.03, avg_amt_per_1h -> 0.15, num_trans_per_12h -> 0.13, num_trans_per_10m -> 0.0]    |\n",
      "|[2021-05-04 06:41:20, 2021-05-04 06:41:26]|num_trans_per_12h|[avg_amt_per_10m -> -0.26, avg_amt_per_12h -> 0.13, num_trans_per_1h -> -0.12, avg_amt_per_1h -> 0.01, num_trans_per_10m -> 0.07]    |\n",
      "|[2021-05-04 06:41:20, 2021-05-04 06:41:26]|avg_amt_per_1h   |[avg_amt_per_10m -> -0.13, avg_amt_per_12h -> 0.15, num_trans_per_1h -> -0.07, num_trans_per_12h -> 0.01, num_trans_per_10m -> -0.18]|\n",
      "+------------------------------------------+-----------------+-------------------------------------------------------------------------------------------------------------------------------------+\n",
      "only showing top 6 rows\n",
      "\n",
      "None"
     ]
    }
   ],
   "source": [
    "print(corr_stats_df.show(6, truncate=False))"
   ]
  },
  {
   "cell_type": "markdown",
   "id": "b0a41043",
   "metadata": {},
   "source": [
    "#### Covariance"
   ]
  },
  {
   "cell_type": "code",
   "execution_count": 8,
   "id": "2827359c",
   "metadata": {},
   "outputs": [
    {
     "name": "stdout",
     "output_type": "stream",
     "text": [
      "+-----------------+-----------------------------------------------------------------------------------------------------------------------------------------------------------------------------------------------------------------+\n",
      "|feature          |cov                                                                                                                                                                                                              |\n",
      "+-----------------+-----------------------------------------------------------------------------------------------------------------------------------------------------------------------------------------------------------------+\n",
      "|num_trans_per_10m|[avg_amt_per_10m -> 3.0957043261568E11, avg_amt_per_12h -> -4.520635835511398E13, num_trans_per_1h -> 2.4112523343981465E15, avg_amt_per_1h -> 1.75275420088811E12, num_trans_per_12h -> 1.3834256019623732E16]  |\n",
      "|avg_amt_per_10m  |[avg_amt_per_12h -> 1.226308168475E10, num_trans_per_1h -> 4.15171421211729E12, avg_amt_per_1h -> 3.19434766569E9, num_trans_per_12h -> 5.2237198229828E11, num_trans_per_10m -> 3.0957043261568E11]             |\n",
      "|num_trans_per_1h |[avg_amt_per_10m -> 4.15171421211729E12, avg_amt_per_12h -> 9.683796452439883E13, avg_amt_per_1h -> 2.585888649092175E13, num_trans_per_12h -> 4.4774027236029875E15, num_trans_per_10m -> 2.4112523343981465E15]|\n",
      "|avg_amt_per_12h  |[avg_amt_per_10m -> 1.226308168475E10, num_trans_per_1h -> 9.683796452439883E13, avg_amt_per_1h -> 7.754404042562E10, num_trans_per_12h -> -3.622607306169063E13, num_trans_per_10m -> -4.520635835511398E13]    |\n",
      "|num_trans_per_12h|[avg_amt_per_10m -> 5.2237198229828E11, avg_amt_per_12h -> -3.622607306169063E13, num_trans_per_1h -> 4.4774027236029875E15, avg_amt_per_1h -> 2.97197094069489E12, num_trans_per_10m -> 1.3834256019623732E16]  |\n",
      "|avg_amt_per_1h   |[avg_amt_per_10m -> 3.19434766569E9, avg_amt_per_12h -> 7.754404042562E10, num_trans_per_1h -> 2.585888649092175E13, num_trans_per_12h -> 2.97197094069489E12, num_trans_per_10m -> 1.75275420088811E12]         |\n",
      "+-----------------+-----------------------------------------------------------------------------------------------------------------------------------------------------------------------------------------------------------------+\n",
      "only showing top 6 rows\n",
      "\n",
      "None"
     ]
    }
   ],
   "source": [
    "print(cov_stats_df.show(6, truncate=False))"
   ]
  },
  {
   "cell_type": "markdown",
   "id": "cff70315",
   "metadata": {},
   "source": [
    "## Outliers and Data Drift Detection (kafka)"
   ]
  },
  {
   "cell_type": "code",
   "execution_count": 9,
   "id": "86c1e019",
   "metadata": {
    "jupyter": {
     "source_hidden": true
    }
   },
   "outputs": [],
   "source": [
    "def get_consumer(topic):\n",
    "    config = kafka.get_kafka_default_config()\n",
    "    config['default.topic.config'] = {'auto.offset.reset': 'earliest'}\n",
    "    consumer = Consumer(config)\n",
    "    consumer.subscribe([topic])\n",
    "    return consumer"
   ]
  },
  {
   "cell_type": "code",
   "execution_count": 22,
   "id": "86d6f096",
   "metadata": {
    "jupyter": {
     "source_hidden": true
    }
   },
   "outputs": [],
   "source": [
    "def poll(consumer, n=2):\n",
    "    df = pd.DataFrame([])\n",
    "    for i in range(0, n):\n",
    "        msg = consumer.poll(timeout=5.0)\n",
    "        if msg is not None:\n",
    "            value = msg.value()\n",
    "            try: \n",
    "                d = json.loads(value.decode('utf-8'))\n",
    "                df_msg = pd.DataFrame(d.items()).transpose()\n",
    "                df_msg.columns = df_msg.iloc[0]\n",
    "                df_msg.drop('window', inplace=True, axis=1)\n",
    "                df = df.append(df_msg.drop(df_msg.index[[0]]))\n",
    "            except Exception as e:\n",
    "                print(\"A message was read but there was an error parsing it\")\n",
    "                print(e)\n",
    "    return df"
   ]
  },
  {
   "cell_type": "markdown",
   "id": "d89c2a6f",
   "metadata": {},
   "source": [
    "### Outliers detected"
   ]
  },
  {
   "cell_type": "code",
   "execution_count": 11,
   "id": "d1bcac38",
   "metadata": {},
   "outputs": [],
   "source": [
    "outliers_consumer = get_consumer(\"credit_card_activity_outliers\")"
   ]
  },
  {
   "cell_type": "code",
   "execution_count": 12,
   "id": "1caa26ff",
   "metadata": {},
   "outputs": [],
   "source": [
    "outliers = poll(outliers_consumer, 20)"
   ]
  },
  {
   "cell_type": "code",
   "execution_count": 13,
   "id": "8c267027",
   "metadata": {},
   "outputs": [
    {
     "name": "stdout",
     "output_type": "stream",
     "text": [
      "0            feature    value  type           outlier  \\\n",
      "1  num_trans_per_12h  1680.89   max  descriptiveStats   \n",
      "1     avg_amt_per_1h        1  mean  descriptiveStats   \n",
      "1    avg_amt_per_12h        9  mean  descriptiveStats   \n",
      "1    avg_amt_per_12h        9   min  descriptiveStats   \n",
      "1  num_trans_per_12h  264.259   max  descriptiveStats   \n",
      "1     avg_amt_per_1h        2  mean  descriptiveStats   \n",
      "1    avg_amt_per_12h        5  mean  descriptiveStats   \n",
      "1    avg_amt_per_12h        5   min  descriptiveStats   \n",
      "1  num_trans_per_12h  1331.38  mean  descriptiveStats   \n",
      "1  num_trans_per_12h  1331.38   max  descriptiveStats   \n",
      "\n",
      "0             detectionTime  \n",
      "1  2021-05-04T08:53:51.427Z  \n",
      "1  2021-05-04T08:53:51.429Z  \n",
      "1  2021-05-04T08:53:51.429Z  \n",
      "1  2021-05-04T08:53:51.429Z  \n",
      "1  2021-05-04T08:53:51.429Z  \n",
      "1  2021-05-04T08:53:51.430Z  \n",
      "1  2021-05-04T08:53:51.430Z  \n",
      "1  2021-05-04T08:53:51.430Z  \n",
      "1  2021-05-04T08:53:51.430Z  \n",
      "1  2021-05-04T08:53:51.430Z"
     ]
    }
   ],
   "source": [
    "outliers.head(10)"
   ]
  },
  {
   "cell_type": "markdown",
   "id": "14417624",
   "metadata": {},
   "source": [
    "### Data drift detected"
   ]
  },
  {
   "cell_type": "code",
   "execution_count": 19,
   "id": "b8591bb1",
   "metadata": {},
   "outputs": [],
   "source": [
    "drift_consumer = get_consumer(\"credit_card_activity_drift\")"
   ]
  },
  {
   "cell_type": "code",
   "execution_count": 25,
   "id": "9bd57441",
   "metadata": {},
   "outputs": [],
   "source": [
    "drift = poll(drift_consumer, 20)"
   ]
  },
  {
   "cell_type": "code",
   "execution_count": 36,
   "id": "89a641da",
   "metadata": {},
   "outputs": [
    {
     "name": "stdout",
     "output_type": "stream",
     "text": [
      "0           feature            drift     value             detectionTime\n",
      "1    avg_amt_per_1h  kullbackLeibler   7.38321  2021-05-04T10:05:23.014Z\n",
      "1    avg_amt_per_1h    jensenShannon  0.690542  2021-05-04T10:05:23.014Z\n",
      "1  num_trans_per_1h      wasserstein  0.766589  2021-05-04T10:05:23.015Z\n",
      "1  num_trans_per_1h  kullbackLeibler  0.677257  2021-05-04T10:05:23.015Z\n",
      "1  num_trans_per_1h    jensenShannon  0.182436  2021-05-04T10:05:23.015Z"
     ]
    }
   ],
   "source": [
    "drift.head(5)"
   ]
  },
  {
   "cell_type": "code",
   "execution_count": null,
   "id": "10af7bdb",
   "metadata": {},
   "outputs": [],
   "source": []
  }
 ],
 "metadata": {
  "kernelspec": {
   "display_name": "PySpark",
   "language": "python",
   "name": "pysparkkernel"
  },
  "language_info": {
   "codemirror_mode": {
    "name": "python",
    "version": 3
   },
   "mimetype": "text/x-python",
   "name": "pyspark",
   "pygments_lexer": "python3"
  }
 },
 "nbformat": 4,
 "nbformat_minor": 5
}