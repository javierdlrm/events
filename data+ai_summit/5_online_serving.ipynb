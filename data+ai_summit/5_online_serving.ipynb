{
 "cells": [
  {
   "cell_type": "markdown",
   "id": "85291366",
   "metadata": {},
   "source": [
    "---\n",
    "title: \"Online Feature Serving\"\n",
    "date: 2021-04-25\n",
    "type: technical_note\n",
    "draft: false\n",
    "---"
   ]
  },
  {
   "cell_type": "markdown",
   "id": "3a7647e1",
   "metadata": {},
   "source": [
    "## Connect to the Feature Store"
   ]
  },
  {
   "cell_type": "code",
   "execution_count": 1,
   "id": "996ab722",
   "metadata": {},
   "outputs": [
    {
     "name": "stdout",
     "output_type": "stream",
     "text": [
      "Connected. Call `.close()` to terminate connection gracefully.\n"
     ]
    }
   ],
   "source": [
    "import hsfs\n",
    "\n",
    "connection = hsfs.connection()\n",
    "fs = connection.get_feature_store()"
   ]
  },
  {
   "cell_type": "markdown",
   "id": "cf45a901",
   "metadata": {},
   "source": [
    "## Check serving keys"
   ]
  },
  {
   "cell_type": "code",
   "execution_count": 2,
   "id": "54d720b6",
   "metadata": {},
   "outputs": [],
   "source": [
    "td_meta = fs.get_training_dataset(\"card_fraud_dataset_tf\", 1)"
   ]
  },
  {
   "cell_type": "markdown",
   "id": "527d2461",
   "metadata": {},
   "source": [
    "To identify which primary key names are used for this training dataset query use serving_keys method"
   ]
  },
  {
   "cell_type": "code",
   "execution_count": 3,
   "id": "413c8c8c",
   "metadata": {},
   "outputs": [
    {
     "data": {
      "text/plain": [
       "{'cc_num'}"
      ]
     },
     "execution_count": 3,
     "metadata": {},
     "output_type": "execute_result"
    }
   ],
   "source": [
    "#`init_prepared_statement` method is needed to get serving_keys in case `get_serving_vector` has not beed called yet. This is not necessary for `get_serving_vector` method itself\n",
    "td_meta.init_prepared_statement() \n",
    "td_meta.serving_keys"
   ]
  },
  {
   "cell_type": "markdown",
   "id": "c44a4d05",
   "metadata": {},
   "source": [
    "## Deploy fraud detector model"
   ]
  },
  {
   "cell_type": "code",
   "execution_count": 4,
   "id": "1ff65451",
   "metadata": {},
   "outputs": [],
   "source": [
    "from hops import model, serving\n",
    "from hops.model import Metric"
   ]
  },
  {
   "cell_type": "code",
   "execution_count": 5,
   "id": "84e3a5de",
   "metadata": {},
   "outputs": [
    {
     "name": "stdout",
     "output_type": "stream",
     "text": [
      "Model name: card_fraud_detector\n",
      "Model version: 1\n",
      "{'accuracy': '0.9509761333465576'}\n"
     ]
    }
   ],
   "source": [
    "MODEL_NAME=\"card_fraud_detector\"\n",
    "SERVING_NAME=\"cardfrauddetector\"\n",
    "TOPIC_NAME = \"credit_card_inference\"\n",
    "\n",
    "best_model = model.get_best_model(MODEL_NAME, \"accuracy\", Metric.MAX)\n",
    "\n",
    "print('Model name: ' + best_model['name'])\n",
    "print('Model version: ' + str(best_model['version']))\n",
    "print(best_model['metrics'])"
   ]
  },
  {
   "cell_type": "code",
   "execution_count": 6,
   "id": "08871e91",
   "metadata": {},
   "outputs": [
    {
     "name": "stdout",
     "output_type": "stream",
     "text": [
      "Inferring model server from artifact files: TENSORFLOW_SERVING\n",
      "Creating serving cardfrauddetector for artifact /Projects/card_fraud//Models/card_fraud_detector ...\n",
      "Serving cardfrauddetector successfully created\n"
     ]
    }
   ],
   "source": [
    "model_path=\"/Models/\" + best_model['name']\n",
    "transformer_path =  \"/Projects/card_fraud/Jupyter/recent_card_activity_transformer.py\"\n",
    "\n",
    "# Create model serving\n",
    "response = serving.create_or_update(SERVING_NAME, model_path, model_version=best_model['version'], artifact_version=\"CREATE\",\n",
    "                                    transformer=transformer_path, kfserving=True, topic_name=TOPIC_NAME)"
   ]
  },
  {
   "cell_type": "code",
   "execution_count": 7,
   "id": "a1911713",
   "metadata": {},
   "outputs": [
    {
     "name": "stdout",
     "output_type": "stream",
     "text": [
      "Starting serving with name: cardfrauddetector...\n",
      "Serving with name: cardfrauddetector successfully started\n"
     ]
    }
   ],
   "source": [
    "# Start model serving\n",
    "serving.start(SERVING_NAME)"
   ]
  },
  {
   "cell_type": "code",
   "execution_count": 8,
   "id": "a47cf4ff",
   "metadata": {},
   "outputs": [],
   "source": [
    "# Wait for it\n",
    "import time\n",
    "while serving.get_status(SERVING_NAME) != \"Running\":\n",
    "    time.sleep(5)\n",
    "time.sleep(5)"
   ]
  },
  {
   "cell_type": "markdown",
   "id": "26600bd5",
   "metadata": {},
   "source": [
    "## Get credit card numbers"
   ]
  },
  {
   "cell_type": "code",
   "execution_count": 9,
   "id": "a87af796",
   "metadata": {},
   "outputs": [
    {
     "name": "stdout",
     "output_type": "stream",
     "text": [
      "Lazily executing query: SELECT `fg0`.`cc_num`\n",
      "FROM `card_fraud_featurestore`.`fraud_labels_1` `fg0`\n"
     ]
    }
   ],
   "source": [
    "fraud_labels_fg = fs.get_feature_group(\"fraud_labels\", version=1)\n",
    "cc_num = fraud_labels_fg.select(\"cc_num\")\n",
    "card_numbers = cc_num.read()"
   ]
  },
  {
   "cell_type": "code",
   "execution_count": 10,
   "id": "3a660d40",
   "metadata": {},
   "outputs": [],
   "source": [
    "card_numbers_inputs = card_numbers.sample(n=len(card_numbers)*20, replace=True)"
   ]
  },
  {
   "cell_type": "markdown",
   "id": "c1c721a3",
   "metadata": {},
   "source": [
    "## Make inference requests"
   ]
  },
  {
   "cell_type": "code",
   "execution_count": 14,
   "id": "b77151f3",
   "metadata": {},
   "outputs": [
    {
     "name": "stdout",
     "output_type": "stream",
     "text": [
      "{'predictions': [[0.0]]}\n",
      "{'predictions': [[0.0]]}\n",
      "{'predictions': [[1.0]]}\n",
      "{'predictions': [[1.0]]}\n",
      "{'predictions': [[8.01005353e-06]]}\n",
      "{'predictions': [[3.81734644e-08]]}\n",
      "{'predictions': [[0.0]]}\n",
      "{'predictions': [[0.0]]}\n",
      "{'predictions': [[0.0]]}\n",
      "{'predictions': [[0.0]]}\n",
      "{'predictions': [[0.0]]}\n",
      "{'predictions': [[0.0]]}\n",
      "{'predictions': [[0.0]]}\n",
      "{'predictions': [[0.0]]}\n",
      "{'predictions': [[0.0]]}\n",
      "{'predictions': [[0.0]]}\n",
      "{'predictions': [[0.0]]}\n",
      "{'predictions': [[0.0]]}\n",
      "{'predictions': [[0.0]]}\n",
      "{'predictions': [[0.0]]}\n",
      "{'predictions': [[0.0]]}\n",
      "{'predictions': [[0.0]]}\n",
      "{'predictions': [[0.0]]}\n",
      "{'predictions': [[1.0]]}\n",
      "{'predictions': [[0.0]]}\n",
      "{'predictions': [[0.0]]}\n",
      "{'predictions': [[0.0]]}\n",
      "{'predictions': [[0.0]]}\n",
      "{'predictions': [[0.0]]}\n",
      "{'predictions': [[1.71964825e-08]]}\n",
      "{'predictions': [[0.0]]}\n",
      "{'predictions': [[0.0]]}\n",
      "{'predictions': [[0.0]]}\n",
      "{'predictions': [[0.0]]}\n",
      "{'predictions': [[0.0]]}\n",
      "{'predictions': [[0.0]]}\n",
      "{'predictions': [[0.993911743]]}\n",
      "{'predictions': [[0.0]]}\n",
      "{'predictions': [[0.0]]}\n",
      "{'predictions': [[0.0]]}\n",
      "{'predictions': [[0.0]]}\n",
      "{'predictions': [[0.0]]}\n",
      "{'predictions': [[0.0]]}\n",
      "{'predictions': [[0.0]]}\n",
      "{'predictions': [[0.0]]}\n",
      "{'predictions': [[0.0]]}\n",
      "{'predictions': [[0.0]]}\n",
      "{'predictions': [[0.0]]}\n",
      "{'predictions': [[0.0]]}\n",
      "{'predictions': [[0.0]]}\n",
      "{'predictions': [[0.0]]}\n",
      "{'predictions': [[1.0]]}\n",
      "{'predictions': [[0.0]]}\n",
      "{'predictions': [[0.0]]}\n",
      "{'predictions': [[0.0]]}\n",
      "{'predictions': [[0.0]]}\n",
      "{'predictions': [[0.0]]}\n",
      "{'predictions': [[1.0]]}\n",
      "{'predictions': [[1.0]]}\n",
      "{'predictions': [[0.0]]}\n",
      "{'predictions': [[0.0]]}\n",
      "{'predictions': [[0.0]]}\n",
      "{'predictions': [[0.0]]}\n",
      "{'predictions': [[0.0]]}\n",
      "{'predictions': [[0.0]]}\n",
      "{'predictions': [[0.0]]}\n",
      "{'predictions': [[0.0]]}\n",
      "{'predictions': [[0.0]]}\n",
      "{'predictions': [[0.0]]}\n",
      "{'predictions': [[0.00694519561]]}\n",
      "{'predictions': [[0.0]]}\n",
      "{'predictions': [[0.0]]}\n",
      "{'predictions': [[0.0]]}\n",
      "{'predictions': [[0.0]]}\n",
      "{'predictions': [[0.010806066]]}\n",
      "{'predictions': [[0.0]]}\n",
      "{'predictions': [[0.0]]}\n",
      "{'predictions': [[0.0]]}\n",
      "{'predictions': [[0.0]]}\n",
      "{'predictions': [[0.0]]}\n",
      "{'predictions': [[0.0]]}\n",
      "{'predictions': [[0.0]]}\n",
      "{'predictions': [[0.0]]}\n",
      "{'predictions': [[0.0]]}\n",
      "{'predictions': [[0.0]]}\n",
      "{'predictions': [[0.0]]}\n",
      "{'predictions': [[0.0]]}\n",
      "{'predictions': [[0.0]]}\n",
      "{'predictions': [[0.0]]}\n",
      "{'predictions': [[0.0]]}\n",
      "{'predictions': [[0.0]]}\n",
      "{'predictions': [[0.0]]}\n",
      "{'predictions': [[0.0]]}\n",
      "{'predictions': [[0.0]]}\n",
      "{'predictions': [[0.0]]}\n",
      "{'predictions': [[3.3482273e-08]]}\n",
      "{'predictions': [[0.0]]}\n",
      "{'predictions': [[0.0]]}\n",
      "{'predictions': [[0.0]]}\n",
      "{'predictions': [[0.0]]}\n"
     ]
    }
   ],
   "source": [
    "i=0\n",
    "for cc_num in card_numbers_inputs['fg0.cc_num']:\n",
    "    data = { \"signature_name\": \"serving_default\", \"instances\": [{'cc_num': int(cc_num)}] }\n",
    "    response = serving.make_inference_request(SERVING_NAME, data)\n",
    "    if i % 100 == 0:\n",
    "        print(response)\n",
    "    i+=1"
   ]
  },
  {
   "cell_type": "code",
   "execution_count": null,
   "id": "e98242c0",
   "metadata": {},
   "outputs": [],
   "source": []
  }
 ],
 "metadata": {
  "kernelspec": {
   "display_name": "Python",
   "language": "python",
   "name": "python3"
  },
  "language_info": {
   "codemirror_mode": {
    "name": "ipython",
    "version": 3
   },
   "file_extension": ".py",
   "mimetype": "text/x-python",
   "name": "python",
   "nbconvert_exporter": "python",
   "pygments_lexer": "ipython3",
   "version": "3.7.9"
  }
 },
 "nbformat": 4,
 "nbformat_minor": 5
}