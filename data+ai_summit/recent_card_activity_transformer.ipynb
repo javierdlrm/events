{
 "cells": [
  {
   "cell_type": "code",
   "execution_count": 1,
   "id": "a51bba63",
   "metadata": {},
   "outputs": [],
   "source": [
    "import hsfs\n",
    "\n",
    "class Transformer(object):\n",
    "    def __init__(self):\n",
    "        # Connect to the Feature Store\n",
    "        self.conn = hsfs.connection()\n",
    "        self.fs = self.conn.get_feature_store()\n",
    "        self.td = self.fs.get_training_dataset(\"card_fraud_dataset_tf\", 1)\n",
    "    \n",
    "    def preprocess(self, inputs):\n",
    "        # Return ordered feature vector\n",
    "        inputs['instances'] = [self.td.get_serving_vector(cc_num) for cc_num in inputs['instances']]\n",
    "        return inputs\n",
    "        \n",
    "    def postprocess(self, outputs):\n",
    "        return outputs"
   ]
  },
  {
   "cell_type": "code",
   "execution_count": 2,
   "id": "15a479fd",
   "metadata": {},
   "outputs": [
    {
     "name": "stdout",
     "output_type": "stream",
     "text": [
      "Connected. Call `.close()` to terminate connection gracefully.\n"
     ]
    }
   ],
   "source": [
    "# Instantiate transformer\n",
    "recent_card_activity = Transformer()"
   ]
  },
  {
   "cell_type": "code",
   "execution_count": 3,
   "id": "3553a6e8",
   "metadata": {},
   "outputs": [
    {
     "data": {
      "text/plain": [
       "{'instances': [[1, 53.98, 8705.0, 1, 8, 1224.9825]]}"
      ]
     },
     "execution_count": 3,
     "metadata": {},
     "output_type": "execute_result"
    }
   ],
   "source": [
    "# Get recent activity\n",
    "recent_card_activity.preprocess({ 'instances': [{'cc_num': \"4867010117638802\" }] })"
   ]
  }
 ],
 "metadata": {
  "kernelspec": {
   "display_name": "Python",
   "language": "python",
   "name": "python3"
  },
  "language_info": {
   "codemirror_mode": {
    "name": "ipython",
    "version": 3
   },
   "file_extension": ".py",
   "mimetype": "text/x-python",
   "name": "python",
   "nbconvert_exporter": "python",
   "pygments_lexer": "ipython3",
   "version": "3.7.9"
  }
 },
 "nbformat": 4,
 "nbformat_minor": 5
}