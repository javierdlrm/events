{
 "cells": [
  {
   "cell_type": "markdown",
   "id": "b1b02d4a",
   "metadata": {},
   "source": [
    "title: \"Create training dataset from online feature store enabled feature groups\"\n",
    "date: 2021-04-25\n",
    "type: technical_note\n",
    "draft: false\n",
    "---"
   ]
  },
  {
   "cell_type": "markdown",
   "id": "8ad7b025",
   "metadata": {},
   "source": [
    "### Establish a connection with your Hopsworks feature store."
   ]
  },
  {
   "cell_type": "code",
   "execution_count": 1,
   "id": "8cf4bc00",
   "metadata": {},
   "outputs": [
    {
     "name": "stdout",
     "output_type": "stream",
     "text": [
      "Starting Spark application\n"
     ]
    },
    {
     "data": {
      "text/html": [
       "<table>\n",
       "<tr><th>ID</th><th>YARN Application ID</th><th>Kind</th><th>State</th><th>Spark UI</th><th>Driver log</th></tr><tr><td>6</td><td>application_1620032599856_0011</td><td>pyspark</td><td>idle</td><td><a target=\"_blank\" href=\"/hopsworks-api/yarnui/https://javierhead.h.w:8089/proxy/application_1620032599856_0011/\">Link</a></td><td><a target=\"_blank\" href=\"/hopsworks-api/yarnui/https://javiergpu01.h.w:8044/node/containerlogs/container_1620032599856_0011_01_000001/card_fraud__meb10000\">Link</a></td></tr></table>"
      ],
      "text/plain": [
       "<IPython.core.display.HTML object>"
      ]
     },
     "metadata": {},
     "output_type": "display_data"
    },
    {
     "name": "stdout",
     "output_type": "stream",
     "text": [
      "SparkSession available as 'spark'.\n",
      "Connected. Call `.close()` to terminate connection gracefully."
     ]
    }
   ],
   "source": [
    "import hsfs\n",
    "connection = hsfs.connection()\n",
    "# get a reference to the feature store, you can access also shared feature stores by providing the feature store name\n",
    "fs = connection.get_feature_store()"
   ]
  },
  {
   "cell_type": "markdown",
   "id": "26d4d615",
   "metadata": {},
   "source": [
    "## Get feature groups"
   ]
  },
  {
   "cell_type": "code",
   "execution_count": 2,
   "id": "7479a4b6",
   "metadata": {},
   "outputs": [],
   "source": [
    "card_transactions_10m_agg = fs.get_feature_group(\"card_transactions_10m_agg\", version = 1)\n",
    "card_transactions_1h_agg = fs.get_feature_group(\"card_transactions_1h_agg\", version = 1)\n",
    "card_transactions_12h_agg = fs.get_feature_group(\"card_transactions_12h_agg\", version = 1)\n",
    "fraud_labels = fs.get_feature_group(\"fraud_labels\", version = 1)"
   ]
  },
  {
   "cell_type": "markdown",
   "id": "3a2e46dc",
   "metadata": {},
   "source": [
    "## Create training dataset"
   ]
  },
  {
   "cell_type": "code",
   "execution_count": 3,
   "id": "7b9f6b14",
   "metadata": {},
   "outputs": [],
   "source": [
    "query = card_transactions_10m_agg.select([\"avg_amt_per_10m\", \"num_trans_per_10m\"])\\\n",
    "                                 .join(card_transactions_1h_agg.select([\"avg_amt_per_1h\", \"num_trans_per_1h\"]))\\\n",
    "                                 .join(card_transactions_12h_agg.select([\"avg_amt_per_12h\", \"num_trans_per_12h\"]))\\\n",
    "                                 .join(fraud_labels.select([\"fraud_label\"])) # Label"
   ]
  },
  {
   "cell_type": "code",
   "execution_count": 4,
   "id": "a9969dea",
   "metadata": {},
   "outputs": [
    {
     "name": "stdout",
     "output_type": "stream",
     "text": [
      "+---------------+-----------------+--------------+----------------+------------------+-----------------+-----------+\n",
      "|avg_amt_per_10m|num_trans_per_10m|avg_amt_per_1h|num_trans_per_1h|   avg_amt_per_12h|num_trans_per_12h|fraud_label|\n",
      "+---------------+-----------------+--------------+----------------+------------------+-----------------+-----------+\n",
      "|          85.13|                1|          6.77|               1| 751.5399999999998|                9|          0|\n",
      "|          88.89|                1|        42.875|               2|156.58642857142854|               14|          0|\n",
      "|          87.44|                1|        634.81|               1|342.55333333333334|                6|          0|\n",
      "|          56.75|                1|         71.31|               1| 60.95428571428571|                7|          0|\n",
      "+---------------+-----------------+--------------+----------------+------------------+-----------------+-----------+\n",
      "only showing top 4 rows"
     ]
    }
   ],
   "source": [
    "query.show(4)"
   ]
  },
  {
   "cell_type": "code",
   "execution_count": 5,
   "id": "115038bc",
   "metadata": {},
   "outputs": [
    {
     "name": "stdout",
     "output_type": "stream",
     "text": [
      "<hsfs.training_dataset.TrainingDataset object at 0x7f321b06fe90>"
     ]
    }
   ],
   "source": [
    "td_meta = fs.create_training_dataset(name=\"card_fraud_dataset\",\n",
    "                               description=\"Training dataset to train card fraud model\",\n",
    "                               data_format=\"tfrecords\",\n",
    "                               splits={'train': 0.8, 'test': 0.1, 'validate': 0.1},\n",
    "                               statistics_config={\"enabled\": True, \"histograms\": True, \"correlations\": True},\n",
    "                               label=[\"fraud_label\"],\n",
    "                               version=1)\n",
    "td_meta.save(query)"
   ]
  },
  {
   "cell_type": "code",
   "execution_count": 6,
   "id": "1d0a6a7a",
   "metadata": {
    "collapsed": true,
    "jupyter": {
     "outputs_hidden": true,
     "source_hidden": true
    }
   },
   "outputs": [
    {
     "name": "stdout",
     "output_type": "stream",
     "text": [
      "+---------------+---------------+----------------+--------------+-----------------+-----------+-----------------+\n",
      "|avg_amt_per_10m|avg_amt_per_12h|num_trans_per_1h|avg_amt_per_1h|num_trans_per_12h|fraud_label|num_trans_per_10m|\n",
      "+---------------+---------------+----------------+--------------+-----------------+-----------+-----------------+\n",
      "|         440.27|      320.84332|               2|        515.22|               15|          0|                1|\n",
      "|          676.7|        1313.98|               2|       1206.69|                7|          0|                1|\n",
      "|         8866.1|        144.285|               1|          25.4|                6|          0|                1|\n",
      "|          26.94|       967.8611|               3|        173.15|                9|          0|                1|\n",
      "+---------------+---------------+----------------+--------------+-----------------+-----------+-----------------+\n",
      "only showing top 4 rows"
     ]
    }
   ],
   "source": [
    "td_meta.show(4)"
   ]
  },
  {
   "cell_type": "markdown",
   "id": "93ae3e1b",
   "metadata": {},
   "source": [
    "# Train a fraud detector"
   ]
  },
  {
   "cell_type": "code",
   "execution_count": 9,
   "id": "e670ae4f",
   "metadata": {},
   "outputs": [],
   "source": [
    "from hops import tensorboard    \n",
    "from hops import model as hops_model\n",
    "\n",
    "import tensorflow as tf\n",
    "from tensorflow import keras\n",
    "from tensorflow.keras import layers\n",
    "\n",
    "batch_size = 32\n",
    "num_epochs = 1 "
   ]
  },
  {
   "cell_type": "code",
   "execution_count": 8,
   "id": "f561aba5",
   "metadata": {
    "jupyter": {
     "source_hidden": true
    }
   },
   "outputs": [],
   "source": [
    "def build_model():\n",
    "    model = keras.Sequential([\n",
    "        layers.Dense(64, activation='relu', input_shape=[6]),\n",
    "        layers.Dense(64, activation='relu'),\n",
    "        layers.Dense(1, activation='sigmoid')\n",
    "    ])\n",
    "    model.compile(loss='binary_crossentropy', optimizer='adam', metrics=['accuracy'])\n",
    "    return model\n",
    "\n",
    "class PrintCallback(keras.callbacks.Callback):\n",
    "    def on_epoch_end(self, epoch, logs):\n",
    "        if epoch % 100 == 0: print('')\n",
    "        print('.', end='')"
   ]
  },
  {
   "cell_type": "code",
   "execution_count": 10,
   "id": "2981305d",
   "metadata": {},
   "outputs": [],
   "source": [
    "train_input = td_meta.tf_data(target_name='fraud_label', split='train', is_training=True)\n",
    "train_input_processed = train_input.tf_record_dataset(process=True, batch_size =32, num_epochs=1)"
   ]
  },
  {
   "cell_type": "code",
   "execution_count": 11,
   "id": "4f4131e7",
   "metadata": {},
   "outputs": [
    {
     "name": "stdout",
     "output_type": "stream",
     "text": [
      "429/429 [==============================] - 22s 49ms/step - loss: 13.0942 - accuracy: 0.9187\n",
      "\n",
      "."
     ]
    }
   ],
   "source": [
    "# Train model\n",
    "model = build_model()\n",
    "history = model.fit(train_input_processed,\n",
    "    batch_size=batch_size,\n",
    "    epochs=num_epochs,\n",
    "    callbacks=[PrintCallback()],\n",
    "    verbose=1)"
   ]
  },
  {
   "cell_type": "code",
   "execution_count": 12,
   "id": "80d204ef",
   "metadata": {},
   "outputs": [
    {
     "name": "stdout",
     "output_type": "stream",
     "text": [
      "Started copying local path Resources/CardFraudDetection/SavedModel/saved_model.pb to hdfs path hdfs://rpc.namenode.service.consul:8020/Projects/card_fraud/Models/card_fraud_detector/1\n",
      "\n",
      "Finished copying\n",
      "\n",
      "Started copying local path Resources/CardFraudDetection/SavedModel/variables to hdfs path hdfs://rpc.namenode.service.consul:8020/Projects/card_fraud/Models/card_fraud_detector/1\n",
      "\n",
      "Finished copying\n",
      "\n",
      "Started copying local path Resources/CardFraudDetection/SavedModel/assets to hdfs path hdfs://rpc.namenode.service.consul:8020/Projects/card_fraud/Models/card_fraud_detector/1\n",
      "\n",
      "Finished copying\n",
      "\n",
      "Exported model card_fraud_detector as version 1 successfully.\n",
      "Polling card_fraud_detector version 1 for model availability.\n",
      "get model:/hopsworks-api/api/project/120/models/card_fraud_detector_1?filter_by=endpoint_id:120\n",
      "Polling card_fraud_detector version 1 for model availability.\n",
      "get model:/hopsworks-api/api/project/120/models/card_fraud_detector_1?filter_by=endpoint_id:120\n",
      "Polling card_fraud_detector version 1 for model availability.\n",
      "get model:/hopsworks-api/api/project/120/models/card_fraud_detector_1?filter_by=endpoint_id:120\n",
      "Polling card_fraud_detector version 1 for model availability.\n",
      "get model:/hopsworks-api/api/project/120/models/card_fraud_detector_1?filter_by=endpoint_id:120\n",
      "Model now available."
     ]
    }
   ],
   "source": [
    "# Save model in hdfs\n",
    "export_path = 'Resources/CardFraudDetection/SavedModel'\n",
    "tf.keras.models.save_model(model,\n",
    "    export_path,\n",
    "    overwrite=True,\n",
    "    include_optimizer=True,\n",
    "    save_format=None,\n",
    "    signatures=None,\n",
    "    options=None)\n",
    "\n",
    "# Export model\n",
    "hops_model.export(export_path, 'card_fraud_detector', metrics={ 'accuracy': history.history['accuracy'][-1] })"
   ]
  },
  {
   "cell_type": "code",
   "execution_count": null,
   "id": "079cc2d1",
   "metadata": {},
   "outputs": [],
   "source": []
  }
 ],
 "metadata": {
  "kernelspec": {
   "display_name": "PySpark",
   "language": "python",
   "name": "pysparkkernel"
  },
  "language_info": {
   "codemirror_mode": {
    "name": "python",
    "version": 3
   },
   "mimetype": "text/x-python",
   "name": "pyspark",
   "pygments_lexer": "python3"
  }
 },
 "nbformat": 4,
 "nbformat_minor": 5
}