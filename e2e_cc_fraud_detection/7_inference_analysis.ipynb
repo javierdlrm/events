{
 "cells": [
  {
   "cell_type": "markdown",
   "id": "4bcd8adf",
   "metadata": {},
   "source": [
    "---\n",
    "title: \"Inference Analysis\"\n",
    "date: 2021-04-25\n",
    "type: technical_note\n",
    "draft: false\n",
    "---"
   ]
  },
  {
   "cell_type": "markdown",
   "id": "78665051",
   "metadata": {},
   "source": [
    "# Monitor the Prediction Logs\n",
    "\n",
    "![overview-6.png](./images/overview-6.png)\n",
    "\n",
    "In other to monitor the prediction logs in a streaming fashion, we can run a streaming job from the Hopsworks UI that reads the predictions logs from the Kafka topic specified previously, performs analysis on these logs and stores statistics, outliers and drift detection metrics into another Kafka topic, Parquet files or Csv files.\n",
    "\n",
    "### Start the Monitoring Job\n",
    "\n",
    "To achieve this, we need to create a streaming job using the jar file `job-1.0-SNAPSHOT.jar` located together with the demo notebooks and the following job configuration:\n",
    "\n",
    "- **Main class name:** `io.hops.ml.monitoring.job.Monitor`\n",
    "- **Default arguments:** `--conf card_fraud_monitoring_job_config.json`\n",
    "\n",
    "Then, in advance configuration add the json file with name `card_fraud_monitoring_job_config.json` stored together with the demo notebooks. You can customize the monitoring job by modifying this configuration file. Among other things, you can define which statistics to compute, the algorithms for detecting data drift or where to store the resulting analysis.\n",
    "\n",
    "Once the monitoring job is running and the previous notebook has already made some predictions, we can access the statistics, outliers and drift detection that are continuously computed."
   ]
  },
  {
   "cell_type": "code",
   "execution_count": 1,
   "id": "47625cd2",
   "metadata": {},
   "outputs": [
    {
     "name": "stdout",
     "output_type": "stream",
     "text": [
      "Starting Spark application\n"
     ]
    },
    {
     "data": {
      "text/html": [
       "<table>\n",
       "<tr><th>ID</th><th>YARN Application ID</th><th>Kind</th><th>State</th><th>Spark UI</th><th>Driver log</th></tr><tr><td>64</td><td>application_1623853832952_0049</td><td>pyspark</td><td>idle</td><td><a target=\"_blank\" href=\"/hopsworks-api/yarnui/https://javierhead.h.w:8089/proxy/application_1623853832952_0049/\">Link</a></td><td><a target=\"_blank\" href=\"/hopsworks-api/yarnui/https://javiergpu01.internal.cloudapp.net:8044/node/containerlogs/container_e01_1623853832952_0049_01_000001/card_fraud_detection__meb10000\">Link</a></td></tr></table>"
      ],
      "text/plain": [
       "<IPython.core.display.HTML object>"
      ]
     },
     "metadata": {},
     "output_type": "display_data"
    },
    {
     "name": "stdout",
     "output_type": "stream",
     "text": [
      "SparkSession available as 'spark'.\n"
     ]
    }
   ],
   "source": [
    "from hops import hdfs\n",
    "import pyarrow.parquet as pq\n",
    "from hops import kafka\n",
    "from hops import tls\n",
    "from confluent_kafka import Producer, Consumer\n",
    "import json\n",
    "\n",
    "import pandas as pd\n",
    "pd.options.display.max_columns = None\n",
    "pd.options.display.max_rows = None\n",
    "pd.set_option('display.max_colwidth', None)"
   ]
  },
  {
   "cell_type": "markdown",
   "id": "2741cd08",
   "metadata": {},
   "source": [
    "### Inference Statistics"
   ]
  },
  {
   "cell_type": "markdown",
   "id": "6491e684",
   "metadata": {},
   "source": [
    "Read inference statistics from parquet files"
   ]
  },
  {
   "cell_type": "code",
   "execution_count": 2,
   "id": "5c081ff7",
   "metadata": {},
   "outputs": [],
   "source": [
    "MONITORING_DIR = \"hdfs:///Projects/\" + hdfs.project_name() + \"/Resources/CardFraudDetection/Monitoring/\"\n",
    "LOGS_STATS_DIR =  MONITORING_DIR + \"credit_card_activity_stats-parquet/\"\n",
    "hdfs.mkdir(LOGS_STATS_DIR)"
   ]
  },
  {
   "cell_type": "code",
   "execution_count": 3,
   "id": "0658d1e8",
   "metadata": {},
   "outputs": [],
   "source": [
    "credit_card_activity_stats = spark.read.parquet(LOGS_STATS_DIR + \"*.parquet\")"
   ]
  },
  {
   "cell_type": "code",
   "execution_count": 4,
   "id": "2777255c",
   "metadata": {},
   "outputs": [],
   "source": [
    "credit_card_activity_stats.createOrReplaceTempView(\"credit_card_activity_stats\")"
   ]
  },
  {
   "cell_type": "code",
   "execution_count": 5,
   "id": "50e0a954",
   "metadata": {},
   "outputs": [],
   "source": [
    "desc_stats_df = spark.sql(\"SELECT window, feature, min, max, mean, stddev FROM credit_card_activity_stats ORDER BY window\")\n",
    "distr_stats_df = spark.sql(\"SELECT feature, distr FROM credit_card_activity_stats ORDER BY window\")\n",
    "corr_stats_df = spark.sql(\"SELECT window, feature, corr FROM credit_card_activity_stats ORDER BY window\")\n",
    "cov_stats_df = spark.sql(\"SELECT feature, cov FROM credit_card_activity_stats ORDER BY window\")"
   ]
  },
  {
   "cell_type": "markdown",
   "id": "5feaadf9",
   "metadata": {},
   "source": [
    "#### Descriptive statistics"
   ]
  },
  {
   "cell_type": "code",
   "execution_count": 6,
   "id": "e4fe3519",
   "metadata": {},
   "outputs": [
    {
     "name": "stdout",
     "output_type": "stream",
     "text": [
      "+------------------------------------------+-----------------+------------------+------------------+----+------+\n",
      "|window                                    |feature          |min               |max               |mean|stddev|\n",
      "+------------------------------------------+-----------------+------------------+------------------+----+------+\n",
      "|{2021-06-22 13:00:44, 2021-06-22 13:00:50}|num_trans_per_1h |1.0005            |2.4701648761537442|0.05|0.27  |\n",
      "|{2021-06-22 13:00:44, 2021-06-22 13:00:50}|avg_amt_per_12h  |1.0005            |1.3102870163717324|0.01|0.1   |\n",
      "|{2021-06-22 13:00:44, 2021-06-22 13:00:50}|avg_amt_per_1h   |1.00099           |5.791895          |0.17|1.35  |\n",
      "|{2021-06-22 13:00:44, 2021-06-22 13:00:50}|avg_amt_per_10m  |1.001             |1.0015            |0.0 |0.05  |\n",
      "|{2021-06-22 13:00:44, 2021-06-22 13:00:50}|stdev_amt_per_12h|1.0105183333333334|2.2248025         |0.04|0.33  |\n",
      "|{2021-06-22 13:00:44, 2021-06-22 13:00:50}|stdev_amt_per_1h |1.000745          |4.4910049999999995|0.12|0.85  |\n",
      "+------------------------------------------+-----------------+------------------+------------------+----+------+\n",
      "only showing top 6 rows\n",
      "\n",
      "None"
     ]
    }
   ],
   "source": [
    "print(desc_stats_df.show(6, truncate=False))"
   ]
  },
  {
   "cell_type": "markdown",
   "id": "50328e1a",
   "metadata": {},
   "source": [
    "#### Distributions"
   ]
  },
  {
   "cell_type": "code",
   "execution_count": 7,
   "id": "c0f99002",
   "metadata": {},
   "outputs": [
    {
     "name": "stdout",
     "output_type": "stream",
     "text": [
      "+-----------------+-----------------------------------------------------------------------------------------------------------------------------------------------------------------------+\n",
      "|feature          |distr                                                                                                                                                                  |\n",
      "+-----------------+-----------------------------------------------------------------------------------------------------------------------------------------------------------------------+\n",
      "|num_trans_per_1h |{1.0016000509262085 -> 0.0, 1.0010000467300415 -> 0.0, 1.001900053024292 -> 0.0, 1.0022000551223755 -> 0.0, 1.001300048828125 -> 0.0}                                  |\n",
      "|avg_amt_per_12h  |{1.5285710096359253 -> 0.0, 2.5619930028915405 -> 0.0, 3.0787039995193481 -> 0.0, 1.0118600130081177 -> 2.0, 2.0452820062637329 -> 0.0}                                |\n",
      "|avg_amt_per_1h   |{1.0005899667739868 -> 24.0, 5.1820502281188965 -> 1.0, 4.34575817584991456 -> 1.0, 2.67317407131195068 -> 0.0, 3.50946612358093262 -> 2.0, 1.83688201904296874 -> 1.0}|\n",
      "|avg_amt_per_10m  |{2.0005550384521484 -> 0.0, 3.0005550384521484 -> 0.0, 4.0005550384521484 -> 0.0, 5.0005550384521484 -> 0.0, 1.0005550384521484 -> 29.0}                               |\n",
      "|stdev_amt_per_12h|{3.16779012680053708 -> 0.0, 1.005739688873291 -> 24.0, 2.62727751731872556 -> 0.0, 1.54625229835510252 -> 3.0, 2.08676490783691404 -> 2.0}                            |\n",
      "|stdev_amt_per_1h |{2.19480900764465332 -> 0.0, 3.38911805152893064 -> 1.0, 2.79196352958679198 -> 1.0, 1.000499963760376 -> 26.0, 1.59765448570251466 -> 0.0}                            |\n",
      "+-----------------+-----------------------------------------------------------------------------------------------------------------------------------------------------------------------+\n",
      "only showing top 6 rows\n",
      "\n",
      "None"
     ]
    }
   ],
   "source": [
    "print(distr_stats_df.show(6, truncate=False))"
   ]
  },
  {
   "cell_type": "markdown",
   "id": "af269d59",
   "metadata": {},
   "source": [
    "#### Correlations"
   ]
  },
  {
   "cell_type": "code",
   "execution_count": 8,
   "id": "4f4b740d",
   "metadata": {},
   "outputs": [
    {
     "name": "stdout",
     "output_type": "stream",
     "text": [
      "+------------------------------------------+-----------------+--------------------------------------------------------------------------------------------------------------------------------------------------------------------------------------------------------------------+\n",
      "|window                                    |feature          |corr                                                                                                                                                                                                                |\n",
      "+------------------------------------------+-----------------+--------------------------------------------------------------------------------------------------------------------------------------------------------------------------------------------------------------------+\n",
      "|{2021-06-22 13:00:44, 2021-06-22 13:00:50}|num_trans_per_1h |{avg_amt_per_10m -> -0.05, avg_amt_per_12h -> -0.05, stdev_amt_per_1h -> -0.11, avg_amt_per_1h -> 0.01, num_trans_per_12h -> -0.04, stdev_amt_per_12h -> 0.15, num_trans_per_10m -> 0.23, stdev_amt_per_10m -> 0.13}|\n",
      "|{2021-06-22 13:00:44, 2021-06-22 13:00:50}|avg_amt_per_12h  |{avg_amt_per_10m -> 0.61, stdev_amt_per_1h -> 0.05, num_trans_per_1h -> -0.05, avg_amt_per_1h -> -0.09, num_trans_per_12h -> 0.63, stdev_amt_per_12h -> 0.24, num_trans_per_10m -> 0.18, stdev_amt_per_10m -> 0.71} |\n",
      "|{2021-06-22 13:00:44, 2021-06-22 13:00:50}|avg_amt_per_1h   |{avg_amt_per_10m -> 0.01, avg_amt_per_12h -> -0.09, stdev_amt_per_1h -> 0.32, num_trans_per_1h -> 0.01, num_trans_per_12h -> 0.01, stdev_amt_per_12h -> 0.08, num_trans_per_10m -> 0.06, stdev_amt_per_10m -> 0.06} |\n",
      "|{2021-06-22 13:00:44, 2021-06-22 13:00:50}|avg_amt_per_10m  |{avg_amt_per_12h -> 0.61, stdev_amt_per_1h -> 0.15, num_trans_per_1h -> -0.05, avg_amt_per_1h -> 0.01, num_trans_per_12h -> 0.9, stdev_amt_per_12h -> 0.19, num_trans_per_10m -> -0.04, stdev_amt_per_10m -> 1.22}  |\n",
      "|{2021-06-22 13:00:44, 2021-06-22 13:00:50}|stdev_amt_per_12h|{avg_amt_per_10m -> 0.19, avg_amt_per_12h -> 0.24, stdev_amt_per_1h -> -0.25, num_trans_per_1h -> 0.15, avg_amt_per_1h -> 0.08, num_trans_per_12h -> 0.2, num_trans_per_10m -> 0.93, stdev_amt_per_10m -> 0.26}     |\n",
      "|{2021-06-22 13:00:44, 2021-06-22 13:00:50}|stdev_amt_per_1h |{avg_amt_per_10m -> 0.15, avg_amt_per_12h -> 0.05, num_trans_per_1h -> -0.11, avg_amt_per_1h -> 0.32, num_trans_per_12h -> 0.16, stdev_amt_per_12h -> -0.25, num_trans_per_10m -> -0.29, stdev_amt_per_10m -> 0.14} |\n",
      "+------------------------------------------+-----------------+--------------------------------------------------------------------------------------------------------------------------------------------------------------------------------------------------------------------+\n",
      "only showing top 6 rows\n",
      "\n",
      "None"
     ]
    }
   ],
   "source": [
    "print(corr_stats_df.show(6, truncate=False))"
   ]
  },
  {
   "cell_type": "markdown",
   "id": "ec78cf86",
   "metadata": {},
   "source": [
    "#### Covariance"
   ]
  },
  {
   "cell_type": "code",
   "execution_count": 9,
   "id": "d1171259",
   "metadata": {},
   "outputs": [
    {
     "name": "stdout",
     "output_type": "stream",
     "text": [
      "+-----------------+-------------------------------------------------------------------------------------------------------------------------------------------------------------------------------------------------------------------------------------------------------+\n",
      "|feature          |cov                                                                                                                                                                                                                                                    |\n",
      "+-----------------+-------------------------------------------------------------------------------------------------------------------------------------------------------------------------------------------------------------------------------------------------------+\n",
      "|num_trans_per_1h |{avg_amt_per_10m -> 6361.52, avg_amt_per_12h -> -124049.62, stdev_amt_per_1h -> -2562591.0, avg_amt_per_1h -> 2809013.47, num_trans_per_12h -> 9551.43, stdev_amt_per_12h -> 1517853.74, num_trans_per_10m -> 5160054.1, stdev_amt_per_10m -> 35014.89}|\n",
      "|avg_amt_per_12h  |{avg_amt_per_10m -> -186.95, stdev_amt_per_1h -> -9528.37, num_trans_per_1h -> -124049.62, avg_amt_per_1h -> -11362.14, num_trans_per_12h -> -280.42, stdev_amt_per_12h -> -2441.17, num_trans_per_10m -> -34527.55, stdev_amt_per_10m -> -1024.62}    |\n",
      "|avg_amt_per_1h   |{avg_amt_per_10m -> 582.66, avg_amt_per_12h -> -11362.14, stdev_amt_per_1h -> 2256347.15, num_trans_per_1h -> 2809013.47, num_trans_per_12h -> 50.36, stdev_amt_per_12h -> 586353.36, num_trans_per_10m -> 1762783.99, stdev_amt_per_10m -> 2117.34}   |\n",
      "|avg_amt_per_10m  |{avg_amt_per_12h -> -186.95, stdev_amt_per_1h -> 488.63, num_trans_per_1h -> 6361.52, avg_amt_per_1h -> 582.66, num_trans_per_12h -> 14.38, stdev_amt_per_12h -> 125.19, num_trans_per_10m -> 1770.65, stdev_amt_per_10m -> 52.54}                     |\n",
      "|stdev_amt_per_12h|{avg_amt_per_10m -> 125.19, avg_amt_per_12h -> -2441.17, stdev_amt_per_1h -> -802611.25, num_trans_per_1h -> 1517853.74, avg_amt_per_1h -> 586353.36, num_trans_per_12h -> 196.16, num_trans_per_10m -> 1211366.24, stdev_amt_per_10m -> 673.62}       |\n",
      "|stdev_amt_per_1h |{avg_amt_per_10m -> 488.63, avg_amt_per_12h -> -9528.37, num_trans_per_1h -> -2562591.0, avg_amt_per_1h -> 2256347.15, num_trans_per_12h -> 1193.61, stdev_amt_per_12h -> -802611.25, num_trans_per_10m -> -1992909.74, stdev_amt_per_10m -> -73.3}    |\n",
      "+-----------------+-------------------------------------------------------------------------------------------------------------------------------------------------------------------------------------------------------------------------------------------------------+\n",
      "only showing top 6 rows\n",
      "\n",
      "None"
     ]
    }
   ],
   "source": [
    "print(cov_stats_df.show(6, truncate=False))"
   ]
  },
  {
   "cell_type": "markdown",
   "id": "d731d4a3",
   "metadata": {},
   "source": [
    "## Outliers and Data Drift Detection (kafka)"
   ]
  },
  {
   "cell_type": "code",
   "execution_count": 10,
   "id": "44f97a27",
   "metadata": {},
   "outputs": [],
   "source": [
    "def get_consumer(topic):\n",
    "    config = kafka.get_kafka_default_config()\n",
    "    config['default.topic.config'] = {'auto.offset.reset': 'latest'}\n",
    "    consumer = Consumer(config)\n",
    "    consumer.subscribe([topic])\n",
    "    return consumer"
   ]
  },
  {
   "cell_type": "code",
   "execution_count": 11,
   "id": "f998dbfa",
   "metadata": {},
   "outputs": [],
   "source": [
    "def poll(consumer, n=2):\n",
    "    df = pd.DataFrame([])\n",
    "    for i in range(0, n):\n",
    "        msg = consumer.poll(timeout=5.0)\n",
    "        if msg is not None:\n",
    "            value = msg.value()\n",
    "            try: \n",
    "                d = json.loads(value.decode('utf-8'))\n",
    "                df_msg = pd.DataFrame(d.items()).transpose()\n",
    "                df_msg.columns = df_msg.iloc[0]\n",
    "                df = df.append(df_msg.drop(df_msg.index[[0]]))\n",
    "            except Exception as e:\n",
    "                print(\"A message was read but there was an error parsing it\")\n",
    "                print(e)\n",
    "    return df"
   ]
  },
  {
   "cell_type": "markdown",
   "id": "9416de19",
   "metadata": {},
   "source": [
    "### Outliers detected"
   ]
  },
  {
   "cell_type": "code",
   "execution_count": 12,
   "id": "b7298169",
   "metadata": {},
   "outputs": [],
   "source": [
    "outliers_consumer = get_consumer(\"credit_card_activity_outliers\")"
   ]
  },
  {
   "cell_type": "code",
   "execution_count": 13,
   "id": "f4fca483",
   "metadata": {},
   "outputs": [],
   "source": [
    "outliers = poll(outliers_consumer, 20)"
   ]
  },
  {
   "cell_type": "code",
   "execution_count": 14,
   "id": "88a9ffe5",
   "metadata": {},
   "outputs": [
    {
     "name": "stdout",
     "output_type": "stream",
     "text": [
      "0            feature    value  type           outlier  \\\n",
      "1  stdev_amt_per_12h    1.003   min  descriptiveStats   \n",
      "1  num_trans_per_10m  2.50457  mean  descriptiveStats   \n",
      "1  num_trans_per_10m  2.50457   max  descriptiveStats   \n",
      "1  stdev_amt_per_10m  3.04124  mean  descriptiveStats   \n",
      "1    avg_amt_per_12h    1.001   min  descriptiveStats   \n",
      "1   num_trans_per_1h   1.0005   min  descriptiveStats   \n",
      "1  num_trans_per_12h    1.001   min  descriptiveStats   \n",
      "1  stdev_amt_per_12h   1.0045   min  descriptiveStats   \n",
      "1  num_trans_per_10m  1.18522  mean  descriptiveStats   \n",
      "1  num_trans_per_10m  1.18522   max  descriptiveStats   \n",
      "\n",
      "0               requestTime             detectionTime  \n",
      "1  2021-06-17T13:58:19.000Z  2021-06-17T14:15:20.382Z  \n",
      "1  2021-06-17T13:58:19.000Z  2021-06-17T14:15:20.382Z  \n",
      "1  2021-06-17T13:58:19.000Z  2021-06-17T14:15:20.382Z  \n",
      "1  2021-06-17T13:58:19.000Z  2021-06-17T14:15:20.382Z  \n",
      "1  2021-06-17T13:58:19.000Z  2021-06-17T14:15:20.386Z  \n",
      "1  2021-06-17T13:58:19.000Z  2021-06-17T14:15:20.386Z  \n",
      "1  2021-06-17T13:58:19.000Z  2021-06-17T14:15:20.386Z  \n",
      "1  2021-06-17T13:58:19.000Z  2021-06-17T14:15:20.386Z  \n",
      "1  2021-06-17T13:58:19.000Z  2021-06-17T14:15:20.386Z  \n",
      "1  2021-06-17T13:58:19.000Z  2021-06-17T14:15:20.386Z"
     ]
    }
   ],
   "source": [
    "outliers.head(10)"
   ]
  },
  {
   "cell_type": "markdown",
   "id": "e86ebaad",
   "metadata": {},
   "source": [
    "### Data drift detected"
   ]
  },
  {
   "cell_type": "code",
   "execution_count": 25,
   "id": "40da794c",
   "metadata": {},
   "outputs": [],
   "source": [
    "drift_consumer = get_consumer(\"credit_card_activity_drift\")"
   ]
  },
  {
   "cell_type": "code",
   "execution_count": 28,
   "id": "b1fac92b",
   "metadata": {},
   "outputs": [],
   "source": [
    "drift = poll(drift_consumer, 10)"
   ]
  },
  {
   "cell_type": "code",
   "execution_count": 29,
   "id": "8325a942",
   "metadata": {},
   "outputs": [
    {
     "name": "stdout",
     "output_type": "stream",
     "text": [
      "0                                                                    window  \\\n",
      "1  {'start': '2021-06-17T14:13:36.000Z', 'end': '2021-06-17T14:13:42.000Z'}   \n",
      "1  {'start': '2021-06-17T14:13:36.000Z', 'end': '2021-06-17T14:13:42.000Z'}   \n",
      "1  {'start': '2021-06-17T14:13:36.000Z', 'end': '2021-06-17T14:13:42.000Z'}   \n",
      "1  {'start': '2021-06-17T14:13:36.000Z', 'end': '2021-06-17T14:13:42.000Z'}   \n",
      "1  {'start': '2021-06-17T14:13:36.000Z', 'end': '2021-06-17T14:13:42.000Z'}   \n",
      "\n",
      "0            feature            drift     value             detectionTime  \n",
      "1   num_trans_per_1h      wasserstein  0.733333  2021-06-17T14:15:54.584Z  \n",
      "1   num_trans_per_1h  kullbackLeibler  0.972924  2021-06-17T14:15:54.584Z  \n",
      "1   num_trans_per_1h    jensenShannon  0.282642  2021-06-17T14:15:54.584Z  \n",
      "1  num_trans_per_12h      wasserstein         2  2021-06-17T14:15:54.584Z  \n",
      "1  num_trans_per_12h  kullbackLeibler   1.60944  2021-06-17T14:15:54.585Z"
     ]
    }
   ],
   "source": [
    "drift.head(5)"
   ]
  },
  {
   "cell_type": "markdown",
   "id": "410eff7b",
   "metadata": {},
   "source": []
  }
 ],
 "metadata": {
  "kernelspec": {
   "display_name": "PySpark",
   "language": "python",
   "name": "pysparkkernel"
  },
  "language_info": {
   "codemirror_mode": {
    "name": "python",
    "version": 3
   },
   "mimetype": "text/x-python",
   "name": "pyspark",
   "pygments_lexer": "python3"
  }
 },
 "nbformat": 4,
 "nbformat_minor": 5
}