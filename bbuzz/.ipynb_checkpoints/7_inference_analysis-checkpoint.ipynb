{
 "cells": [
  {
   "cell_type": "markdown",
   "id": "2117a28b",
   "metadata": {},
   "source": [
    "---\n",
    "title: \"Inference Analysis\"\n",
    "date: 2021-04-25\n",
    "type: technical_note\n",
    "draft: false\n",
    "---"
   ]
  },
  {
   "cell_type": "markdown",
   "id": "8148ca81",
   "metadata": {},
   "source": [
    "## Monitor the Prediction Logs\n",
    "\n",
    "In other to monitor the prediction logs in a streaming fashion, we can run a streaming job from the Hopsworks UI that reads the predictions logs from the Kafka topic specified previously, performs analysis on these logs and stores statistics, outliers and drift detection metrics into another Kafka topic, Parquet files or Csv files.\n",
    "\n",
    "### Start the Monitoring Job\n",
    "\n",
    "To achieve this, we need to create a streaming job using the jar file `job-1.0-SNAPSHOT.jar` located together with the demo notebooks and the following job configuration:\n",
    "\n",
    "- **Main class name:** `io.hops.ml.monitoring.job.Monitor`\n",
    "- **Default arguments:** `--conf card_fraud_monitoring_job_config.json`\n",
    "\n",
    "Then, in advance configuration add the json file with name `card_fraud_monitoring_job_config.json` stored together with the demo notebooks. You can customize the monitoring job by modifying this configuration file. Among other things, you can define which statistics to compute, the algorithms for detecting data drift or where to store the resulting analysis.\n",
    "\n",
    "Once the monitoring job is running and the previous notebook has already made some predictions, we can access the statistics, outliers and drift detection that are continuously computed."
   ]
  },
  {
   "cell_type": "code",
   "execution_count": 1,
   "id": "81b64169",
   "metadata": {},
   "outputs": [
    {
     "name": "stdout",
     "output_type": "stream",
     "text": [
      "Starting Spark application\n"
     ]
    },
    {
     "data": {
      "text/html": [
       "<table>\n",
       "<tr><th>ID</th><th>YARN Application ID</th><th>Kind</th><th>State</th><th>Spark UI</th><th>Driver log</th></tr><tr><td>22</td><td>application_1623086031838_0031</td><td>pyspark</td><td>idle</td><td><a target=\"_blank\" href=\"/hopsworks-api/yarnui/https://javierhead.h.w:8089/proxy/application_1623086031838_0031/\">Link</a></td><td><a target=\"_blank\" href=\"/hopsworks-api/yarnui/https://javiergpu00.h.w:8044/node/containerlogs/container_1623086031838_0031_01_000001/cc_fraud_detection__meb10000\">Link</a></td></tr></table>"
      ],
      "text/plain": [
       "<IPython.core.display.HTML object>"
      ]
     },
     "metadata": {},
     "output_type": "display_data"
    },
    {
     "name": "stdout",
     "output_type": "stream",
     "text": [
      "SparkSession available as 'spark'.\n"
     ]
    }
   ],
   "source": [
    "from hops import hdfs\n",
    "import pyarrow.parquet as pq\n",
    "from hops import kafka\n",
    "from hops import tls\n",
    "from confluent_kafka import Producer, Consumer\n",
    "import json\n",
    "\n",
    "import pandas as pd\n",
    "pd.options.display.max_columns = None\n",
    "pd.options.display.max_rows = None\n",
    "pd.set_option('display.max_colwidth', None)"
   ]
  },
  {
   "cell_type": "markdown",
   "id": "884b9273",
   "metadata": {},
   "source": [
    "### Inference Statistics"
   ]
  },
  {
   "cell_type": "markdown",
   "id": "876fcd78",
   "metadata": {},
   "source": [
    "Read inference statistics from parquet files"
   ]
  },
  {
   "cell_type": "code",
   "execution_count": 2,
   "id": "f6f245ad",
   "metadata": {},
   "outputs": [],
   "source": [
    "MONITORING_DIR = \"hdfs:///Projects/\" + hdfs.project_name() + \"/Resources/CardFraudDetection/Monitoring/\"\n",
    "LOGS_STATS_DIR =  MONITORING_DIR + \"credit_card_activity_stats-parquet/\"\n",
    "credit_card_activity_stats = spark.read.parquet(LOGS_STATS_DIR + \"*.parquet\")"
   ]
  },
  {
   "cell_type": "code",
   "execution_count": 3,
   "id": "1d9061e7",
   "metadata": {},
   "outputs": [],
   "source": [
    "credit_card_activity_stats.createOrReplaceTempView(\"credit_card_activity_stats\")"
   ]
  },
  {
   "cell_type": "code",
   "execution_count": 4,
   "id": "0129b116",
   "metadata": {},
   "outputs": [],
   "source": [
    "desc_stats_df = spark.sql(\"SELECT window, feature, min, max, mean, stddev FROM credit_card_activity_stats ORDER BY window\")\n",
    "distr_stats_df = spark.sql(\"SELECT feature, distr FROM credit_card_activity_stats ORDER BY window\")\n",
    "corr_stats_df = spark.sql(\"SELECT window, feature, corr FROM credit_card_activity_stats ORDER BY window\")\n",
    "cov_stats_df = spark.sql(\"SELECT feature, cov FROM credit_card_activity_stats ORDER BY window\")"
   ]
  },
  {
   "cell_type": "markdown",
   "id": "ea1e91d3",
   "metadata": {},
   "source": [
    "#### Descriptive statistics"
   ]
  },
  {
   "cell_type": "code",
   "execution_count": 5,
   "id": "7ef2dc60",
   "metadata": {},
   "outputs": [
    {
     "name": "stdout",
     "output_type": "stream",
     "text": [
      "+------------------------------------------+-----------------+--------+-----------------+----+------+\n",
      "|window                                    |feature          |min     |max              |mean|stddev|\n",
      "+------------------------------------------+-----------------+--------+-----------------+----+------+\n",
      "|{2021-06-08 14:21:08, 2021-06-08 14:21:14}|avg_amt_per_10m  |1.0005  |1.022727901666599|0.0 |0.04  |\n",
      "|{2021-06-08 14:21:08, 2021-06-08 14:21:14}|stdev_amt_per_12h|1.002   |1.008            |0.0 |0.1   |\n",
      "|{2021-06-08 14:21:08, 2021-06-08 14:21:14}|avg_amt_per_12h  |1.001   |1.0015           |0.0 |0.05  |\n",
      "|{2021-06-08 14:21:08, 2021-06-08 14:21:14}|stdev_amt_per_1h |1.000745|5.264075         |0.07|1.17  |\n",
      "|{2021-06-08 14:21:08, 2021-06-08 14:21:14}|avg_amt_per_1h   |1.0007  |5.791895         |0.08|0.97  |\n",
      "|{2021-06-08 14:21:08, 2021-06-08 14:21:14}|num_trans_per_1h |1.001   |1.002            |0.0 |0.05  |\n",
      "+------------------------------------------+-----------------+--------+-----------------+----+------+\n",
      "only showing top 6 rows\n",
      "\n",
      "None"
     ]
    }
   ],
   "source": [
    "print(desc_stats_df.show(6, truncate=False))"
   ]
  },
  {
   "cell_type": "markdown",
   "id": "a7bff8b5",
   "metadata": {},
   "source": [
    "#### Distributions"
   ]
  },
  {
   "cell_type": "code",
   "execution_count": 6,
   "id": "3d570f86",
   "metadata": {},
   "outputs": [
    {
     "name": "stdout",
     "output_type": "stream",
     "text": [
      "+-----------------+-----------------------------------------------------------------------------------------------------------------------------------------------------------------------+\n",
      "|feature          |distr                                                                                                                                                                  |\n",
      "+-----------------+-----------------------------------------------------------------------------------------------------------------------------------------------------------------------+\n",
      "|avg_amt_per_10m  |{2.0005550384521484 -> 0.0, 3.0005550384521484 -> 0.0, 4.0005550384521484 -> 0.0, 5.0005550384521484 -> 0.0, 1.0005550384521484 -> 1.0}                                |\n",
      "|stdev_amt_per_12h|{3.16779012680053708 -> 0.0, 1.005739688873291 -> 13.0, 2.62727751731872556 -> 0.0, 1.54625229835510252 -> 0.0, 2.08676490783691404 -> 0.0}                            |\n",
      "|avg_amt_per_12h  |{1.5285710096359253 -> 0.0, 2.5619930028915405 -> 0.0, 3.0787039995193481 -> 0.0, 1.0118600130081177 -> 0.0, 2.0452820062637329 -> 0.0}                                |\n",
      "|stdev_amt_per_1h |{2.19480900764465332 -> 0.0, 3.38911805152893064 -> 3.0, 2.79196352958679198 -> 3.0, 1.000499963760376 -> 49.0, 1.59765448570251466 -> 1.0}                            |\n",
      "|avg_amt_per_1h   |{1.0005899667739868 -> 55.0, 5.1820502281188965 -> 1.0, 4.34575817584991456 -> 1.0, 2.67317407131195068 -> 2.0, 3.50946612358093262 -> 1.0, 1.83688201904296874 -> 0.0}|\n",
      "|num_trans_per_1h |{1.0016000509262085 -> 0.0, 1.0010000467300415 -> 0.0, 1.001900053024292 -> 3.0, 1.0022000551223755 -> 0.0, 1.001300048828125 -> 19.0}                                 |\n",
      "+-----------------+-----------------------------------------------------------------------------------------------------------------------------------------------------------------------+\n",
      "only showing top 6 rows\n",
      "\n",
      "None"
     ]
    }
   ],
   "source": [
    "print(distr_stats_df.show(6, truncate=False))"
   ]
  },
  {
   "cell_type": "markdown",
   "id": "d1c9082f",
   "metadata": {},
   "source": [
    "#### Correlations"
   ]
  },
  {
   "cell_type": "code",
   "execution_count": 7,
   "id": "3ce0c0fc",
   "metadata": {},
   "outputs": [
    {
     "name": "stdout",
     "output_type": "stream",
     "text": [
      "+------------------------------------------+-----------------+------------------------------------------------------------------------------------------------------------------------------------------------------------------------------------------------------------------+\n",
      "|window                                    |feature          |corr                                                                                                                                                                                                              |\n",
      "+------------------------------------------+-----------------+------------------------------------------------------------------------------------------------------------------------------------------------------------------------------------------------------------------+\n",
      "|{2021-06-08 14:21:08, 2021-06-08 14:21:14}|avg_amt_per_10m  |{avg_amt_per_12h -> 0.96, stdev_amt_per_1h -> 0.0, num_trans_per_1h -> 1.06, avg_amt_per_1h -> 0.16, num_trans_per_12h -> -0.16, stdev_amt_per_12h -> 1.43, num_trans_per_10m -> 0.33, stdev_amt_per_10m -> 0.05} |\n",
      "|{2021-06-08 14:21:08, 2021-06-08 14:21:14}|stdev_amt_per_12h|{avg_amt_per_10m -> 1.43, avg_amt_per_12h -> 1.17, stdev_amt_per_1h -> 0.06, num_trans_per_1h -> 1.21, avg_amt_per_1h -> 0.12, num_trans_per_12h -> 0.02, num_trans_per_10m -> 0.33, stdev_amt_per_10m -> 0.15}   |\n",
      "|{2021-06-08 14:21:08, 2021-06-08 14:21:14}|avg_amt_per_12h  |{avg_amt_per_10m -> 0.96, stdev_amt_per_1h -> 0.01, num_trans_per_1h -> 0.9, avg_amt_per_1h -> 0.13, num_trans_per_12h -> -0.12, stdev_amt_per_12h -> 1.17, num_trans_per_10m -> 0.29, stdev_amt_per_10m -> 0.05} |\n",
      "|{2021-06-08 14:21:08, 2021-06-08 14:21:14}|stdev_amt_per_1h |{avg_amt_per_10m -> 0.0, avg_amt_per_12h -> 0.01, num_trans_per_1h -> 0.02, avg_amt_per_1h -> 0.12, num_trans_per_12h -> -0.1, stdev_amt_per_12h -> 0.06, num_trans_per_10m -> -0.15, stdev_amt_per_10m -> -0.17} |\n",
      "|{2021-06-08 14:21:08, 2021-06-08 14:21:14}|avg_amt_per_1h   |{avg_amt_per_10m -> 0.16, avg_amt_per_12h -> 0.13, stdev_amt_per_1h -> 0.12, num_trans_per_1h -> 0.14, num_trans_per_12h -> 0.36, stdev_amt_per_12h -> 0.12, num_trans_per_10m -> 0.16, stdev_amt_per_10m -> 0.11}|\n",
      "|{2021-06-08 14:21:08, 2021-06-08 14:21:14}|num_trans_per_1h |{avg_amt_per_10m -> 1.06, avg_amt_per_12h -> 0.9, stdev_amt_per_1h -> 0.02, avg_amt_per_1h -> 0.14, num_trans_per_12h -> -0.11, stdev_amt_per_12h -> 1.21, num_trans_per_10m -> 0.31, stdev_amt_per_10m -> 0.06}  |\n",
      "+------------------------------------------+-----------------+------------------------------------------------------------------------------------------------------------------------------------------------------------------------------------------------------------------+\n",
      "only showing top 6 rows\n",
      "\n",
      "None"
     ]
    }
   ],
   "source": [
    "print(corr_stats_df.show(6, truncate=False))"
   ]
  },
  {
   "cell_type": "markdown",
   "id": "366d928a",
   "metadata": {},
   "source": [
    "#### Covariance"
   ]
  },
  {
   "cell_type": "code",
   "execution_count": 8,
   "id": "d50758cf",
   "metadata": {},
   "outputs": [
    {
     "name": "stdout",
     "output_type": "stream",
     "text": [
      "+-----------------+----------------------------------------------------------------------------------------------------------------------------------------------------------------------------------------------------------------------------------------------------------------------------------------------------------------------------------------------------+\n",
      "|feature          |cov                                                                                                                                                                                                                                                                                                                                                 |\n",
      "+-----------------+----------------------------------------------------------------------------------------------------------------------------------------------------------------------------------------------------------------------------------------------------------------------------------------------------------------------------------------------------+\n",
      "|avg_amt_per_10m  |{avg_amt_per_12h -> 4.88526065095E9, stdev_amt_per_1h -> -2.631386806655E12, num_trans_per_1h -> 6.73752006873E9, avg_amt_per_1h -> 1.02639816594535E12, num_trans_per_12h -> 2.76238102166511E12, stdev_amt_per_12h -> 2.251723617517E10, num_trans_per_10m -> 1.18306189440268E12, stdev_amt_per_10m -> 2.19245798809385E12}                      |\n",
      "|stdev_amt_per_12h|{avg_amt_per_10m -> 2.251723617517E10, avg_amt_per_12h -> 4.503447215035E10, stdev_amt_per_1h -> -2.397920455284401E13, num_trans_per_1h -> 6.174059884632E10, avg_amt_per_1h -> 8.82314462439562E12, num_trans_per_12h -> 2.470859654519044E13, num_trans_per_10m -> 1.081978983030167E13, stdev_amt_per_10m -> 2.058632936672137E13}              |\n",
      "|avg_amt_per_12h  |{avg_amt_per_10m -> 4.88526065095E9, stdev_amt_per_1h -> -5.26277358500657E12, num_trans_per_1h -> 1.347504008746E10, avg_amt_per_1h -> 2.05279634791224E12, num_trans_per_12h -> 5.5247620503048E12, stdev_amt_per_12h -> 4.503447215035E10, num_trans_per_10m -> 2.36612379637923E12, stdev_amt_per_10m -> 4.38491599308511E12}                   |\n",
      "|stdev_amt_per_1h |{avg_amt_per_10m -> -2.631386806655E12, avg_amt_per_12h -> -5.26277358500657E12, num_trans_per_1h -> -7.2655004717034E12, avg_amt_per_1h -> -8.073780885629206E14, num_trans_per_12h -> -2.539072056595402E15, stdev_amt_per_12h -> -2.397920455284401E13, num_trans_per_10m -> -1.1685865068666338E15, stdev_amt_per_10m -> -2.1706202749012855E15}|\n",
      "|avg_amt_per_1h   |{avg_amt_per_10m -> 1.02639816594535E12, avg_amt_per_12h -> 2.05279634791224E12, stdev_amt_per_1h -> -8.073780885629206E14, num_trans_per_1h -> 3.35480459468327E12, num_trans_per_12h -> 1.1221907886106308E16, stdev_amt_per_12h -> 8.82314462439562E12, num_trans_per_10m -> 2.8803587745987925E15, stdev_amt_per_10m -> 4.217751436163688E15}   |\n",
      "|num_trans_per_1h |{avg_amt_per_10m -> 6.73752006873E9, avg_amt_per_12h -> 1.347504008746E10, stdev_amt_per_1h -> -7.2655004717034E12, avg_amt_per_1h -> 3.35480459468327E12, num_trans_per_12h -> 8.4519295182317E12, stdev_amt_per_12h -> 6.174059884632E10, num_trans_per_10m -> 3.42756033311574E12, stdev_amt_per_10m -> 6.17321699529875E12}                     |\n",
      "+-----------------+----------------------------------------------------------------------------------------------------------------------------------------------------------------------------------------------------------------------------------------------------------------------------------------------------------------------------------------------------+\n",
      "only showing top 6 rows\n",
      "\n",
      "None"
     ]
    }
   ],
   "source": [
    "print(cov_stats_df.show(6, truncate=False))"
   ]
  },
  {
   "cell_type": "markdown",
   "id": "dfe9b132",
   "metadata": {},
   "source": [
    "## Outliers and Data Drift Detection (kafka)"
   ]
  },
  {
   "cell_type": "code",
   "execution_count": 9,
   "id": "d90d5349",
   "metadata": {},
   "outputs": [],
   "source": [
    "def get_consumer(topic):\n",
    "    config = kafka.get_kafka_default_config()\n",
    "    config['default.topic.config'] = {'auto.offset.reset': 'earliest'}\n",
    "    consumer = Consumer(config)\n",
    "    consumer.subscribe([topic])\n",
    "    return consumer"
   ]
  },
  {
   "cell_type": "code",
   "execution_count": 16,
   "id": "f3dd993e",
   "metadata": {},
   "outputs": [],
   "source": [
    "def poll(consumer, n=2):\n",
    "    df = pd.DataFrame([])\n",
    "    for i in range(0, n):\n",
    "        msg = consumer.poll(timeout=5.0)\n",
    "        if msg is not None:\n",
    "            value = msg.value()\n",
    "            try: \n",
    "                d = json.loads(value.decode('utf-8'))\n",
    "                df_msg = pd.DataFrame(d.items()).transpose()\n",
    "                df_msg.columns = df_msg.iloc[0]\n",
    "                df = df.append(df_msg.drop(df_msg.index[[0]]))\n",
    "            except Exception as e:\n",
    "                print(\"A message was read but there was an error parsing it\")\n",
    "                print(e)\n",
    "    return df"
   ]
  },
  {
   "cell_type": "markdown",
   "id": "b3a33b40",
   "metadata": {},
   "source": [
    "### Outliers detected"
   ]
  },
  {
   "cell_type": "code",
   "execution_count": 11,
   "id": "3a6fa676",
   "metadata": {},
   "outputs": [],
   "source": [
    "outliers_consumer = get_consumer(\"credit_card_activity_outliers\")"
   ]
  },
  {
   "cell_type": "code",
   "execution_count": 17,
   "id": "3fa797dc",
   "metadata": {},
   "outputs": [],
   "source": [
    "outliers = poll(outliers_consumer, 20)"
   ]
  },
  {
   "cell_type": "code",
   "execution_count": 18,
   "id": "154fa6d9",
   "metadata": {},
   "outputs": [
    {
     "name": "stdout",
     "output_type": "stream",
     "text": [
      "0            feature    value  type           outlier  \\\n",
      "1    avg_amt_per_12h  1.01958  mean  descriptiveStats   \n",
      "1    avg_amt_per_12h  1.01958   min  descriptiveStats   \n",
      "1     avg_amt_per_1h  1.00615  mean  descriptiveStats   \n",
      "1  num_trans_per_12h   1.0015  mean  descriptiveStats   \n",
      "1  num_trans_per_12h   1.0015   min  descriptiveStats   \n",
      "1  num_trans_per_10m  2.05365  mean  descriptiveStats   \n",
      "1  num_trans_per_10m  2.05365   min  descriptiveStats   \n",
      "1    avg_amt_per_12h  1.01863  mean  descriptiveStats   \n",
      "1    avg_amt_per_12h  1.01863   min  descriptiveStats   \n",
      "1     avg_amt_per_1h  1.03479  mean  descriptiveStats   \n",
      "\n",
      "0               requestTime             detectionTime  \n",
      "1  2021-06-07T23:04:14.000Z  2021-06-08T12:31:42.338Z  \n",
      "1  2021-06-07T23:04:14.000Z  2021-06-08T12:31:42.338Z  \n",
      "1  2021-06-07T23:04:14.000Z  2021-06-08T12:31:42.339Z  \n",
      "1  2021-06-07T23:04:14.000Z  2021-06-08T12:31:42.339Z  \n",
      "1  2021-06-07T23:04:14.000Z  2021-06-08T12:31:42.339Z  \n",
      "1  2021-06-07T23:04:14.000Z  2021-06-08T12:31:42.339Z  \n",
      "1  2021-06-07T23:04:14.000Z  2021-06-08T12:31:42.339Z  \n",
      "1  2021-06-07T23:04:14.000Z  2021-06-08T12:31:42.343Z  \n",
      "1  2021-06-07T23:04:14.000Z  2021-06-08T12:31:42.343Z  \n",
      "1  2021-06-07T23:04:14.000Z  2021-06-08T12:31:42.343Z"
     ]
    }
   ],
   "source": [
    "outliers.head(10)"
   ]
  },
  {
   "cell_type": "markdown",
   "id": "77100b97",
   "metadata": {},
   "source": [
    "### Data drift detected"
   ]
  },
  {
   "cell_type": "code",
   "execution_count": 19,
   "id": "c593ec0a",
   "metadata": {},
   "outputs": [],
   "source": [
    "drift_consumer = get_consumer(\"credit_card_activity_drift\")"
   ]
  },
  {
   "cell_type": "code",
   "execution_count": 30,
   "id": "118e598f",
   "metadata": {},
   "outputs": [],
   "source": [
    "drift = poll(drift_consumer, 10)"
   ]
  },
  {
   "cell_type": "code",
   "execution_count": 31,
   "id": "f4f1128b",
   "metadata": {},
   "outputs": [
    {
     "name": "stdout",
     "output_type": "stream",
     "text": [
      "0                                                                    window  \\\n",
      "1  {'start': '2021-06-08T10:34:32.000Z', 'end': '2021-06-08T10:34:38.000Z'}   \n",
      "1  {'start': '2021-06-08T10:34:32.000Z', 'end': '2021-06-08T10:34:38.000Z'}   \n",
      "1  {'start': '2021-06-08T10:34:32.000Z', 'end': '2021-06-08T10:34:38.000Z'}   \n",
      "1  {'start': '2021-06-08T10:34:32.000Z', 'end': '2021-06-08T10:34:38.000Z'}   \n",
      "1  {'start': '2021-06-08T10:34:32.000Z', 'end': '2021-06-08T10:34:38.000Z'}   \n",
      "\n",
      "0            feature            drift     value             detectionTime  \n",
      "1  stdev_amt_per_12h    jensenShannon  0.690542  2021-06-08T12:32:36.835Z  \n",
      "1  num_trans_per_10m      wasserstein   5.26667  2021-06-08T12:32:36.836Z  \n",
      "1  num_trans_per_10m  kullbackLeibler   3.39887  2021-06-08T12:32:36.837Z  \n",
      "1  num_trans_per_10m    jensenShannon  0.619386  2021-06-08T12:32:36.837Z  \n",
      "1  stdev_amt_per_10m      wasserstein   4.73706  2021-06-08T12:32:36.837Z"
     ]
    }
   ],
   "source": [
    "drift.head(5)"
   ]
  },
  {
   "cell_type": "code",
   "execution_count": null,
   "id": "0c40be39",
   "metadata": {},
   "outputs": [],
   "source": []
  }
 ],
 "metadata": {
  "kernelspec": {
   "display_name": "PySpark",
   "language": "python",
   "name": "pysparkkernel"
  },
  "language_info": {
   "codemirror_mode": {
    "name": "python",
    "version": 3
   },
   "mimetype": "text/x-python",
   "name": "pyspark",
   "pygments_lexer": "python3"
  }
 },
 "nbformat": 4,
 "nbformat_minor": 5
}