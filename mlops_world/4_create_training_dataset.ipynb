{
 "cells": [
  {
   "cell_type": "markdown",
   "id": "6d9e8228",
   "metadata": {},
   "source": [
    "---\n",
    "title: \"Create training dataset from online feature store enabled feature groups\"\n",
    "date: 2021-04-25\n",
    "type: technical_note\n",
    "draft: false\n",
    "---"
   ]
  },
  {
   "cell_type": "markdown",
   "id": "3df8621a",
   "metadata": {},
   "source": [
    "### Establish a connection with your Hopsworks feature store."
   ]
  },
  {
   "cell_type": "code",
   "execution_count": 1,
   "id": "5d027da8",
   "metadata": {},
   "outputs": [
    {
     "name": "stdout",
     "output_type": "stream",
     "text": [
      "Starting Spark application\n"
     ]
    },
    {
     "data": {
      "text/html": [
       "<table>\n",
       "<tr><th>ID</th><th>YARN Application ID</th><th>Kind</th><th>State</th><th>Spark UI</th><th>Driver log</th></tr><tr><td>21</td><td>application_1623086031838_0029</td><td>pyspark</td><td>idle</td><td><a target=\"_blank\" href=\"/hopsworks-api/yarnui/https://javierhead.h.w:8089/proxy/application_1623086031838_0029/\">Link</a></td><td><a target=\"_blank\" href=\"/hopsworks-api/yarnui/https://javiergpu01.internal.cloudapp.net:8044/node/containerlogs/container_1623086031838_0029_01_000001/cc_fraud_detection__meb10000\">Link</a></td></tr></table>"
      ],
      "text/plain": [
       "<IPython.core.display.HTML object>"
      ]
     },
     "metadata": {},
     "output_type": "display_data"
    },
    {
     "name": "stdout",
     "output_type": "stream",
     "text": [
      "SparkSession available as 'spark'.\n",
      "Connected. Call `.close()` to terminate connection gracefully."
     ]
    }
   ],
   "source": [
    "import hsfs\n",
    "connection = hsfs.connection()\n",
    "# get a reference to the feature store, you can access also shared feature stores by providing the feature store name\n",
    "fs = connection.get_feature_store()"
   ]
  },
  {
   "cell_type": "markdown",
   "id": "d3e56adf",
   "metadata": {},
   "source": [
    "## Register transformation function"
   ]
  },
  {
   "cell_type": "code",
   "execution_count": 2,
   "id": "a5170ca5",
   "metadata": {},
   "outputs": [],
   "source": [
    "from hsfs_transformers import scalers\n",
    "min_max_normalizer = fs.create_transformation_function(transformation_function=scalers.min_max, \n",
    "                                                        output_type=float, \n",
    "                                                        version=1)\n",
    "min_max_normalizer.save()"
   ]
  },
  {
   "cell_type": "code",
   "execution_count": 3,
   "id": "7ebd71af",
   "metadata": {},
   "outputs": [],
   "source": [
    "min_max = fs.get_transformation_function(name=\"min_max\")"
   ]
  },
  {
   "cell_type": "markdown",
   "id": "5a114a2c",
   "metadata": {},
   "source": [
    "## Get feature groups"
   ]
  },
  {
   "cell_type": "code",
   "execution_count": 4,
   "id": "bed7cf58",
   "metadata": {},
   "outputs": [],
   "source": [
    "card_transactions_10m_agg = fs.get_feature_group(\"card_transactions_10m_agg\", version = 1)\n",
    "card_transactions_1h_agg = fs.get_feature_group(\"card_transactions_1h_agg\", version = 1)\n",
    "card_transactions_12h_agg = fs.get_feature_group(\"card_transactions_12h_agg\", version = 1)"
   ]
  },
  {
   "cell_type": "markdown",
   "id": "f33bbdb4",
   "metadata": {},
   "source": [
    "## Create training dataset"
   ]
  },
  {
   "cell_type": "code",
   "execution_count": 5,
   "id": "245d500f",
   "metadata": {},
   "outputs": [],
   "source": [
    "query = card_transactions_10m_agg.select([\"stdev_amt_per_10m\", \"avg_amt_per_10m\", \"num_trans_per_10m\"])\\\n",
    "                                 .join(card_transactions_1h_agg.select([\"stdev_amt_per_1h\", \"avg_amt_per_1h\", \"num_trans_per_1h\"]))\\\n",
    "                                 .join(card_transactions_12h_agg.select([\"stdev_amt_per_12h\", \"avg_amt_per_12h\", \"num_trans_per_12h\"]))"
   ]
  },
  {
   "cell_type": "code",
   "execution_count": 6,
   "id": "24bfe0ce",
   "metadata": {},
   "outputs": [],
   "source": [
    "td_meta = fs.create_training_dataset(name=\"card_fraud_model\",\n",
    "                               description=\"Training dataset to train card fraud model\",\n",
    "                               data_format=\"tfrecord\",      \n",
    "                               transformation_functions={\"stdev_amt_per_10m\":min_max,\n",
    "                                                         \"avg_amt_per_10m\":min_max,\n",
    "                                                         \"num_trans_per_10m\":min_max,\n",
    "                                                         \"stdev_amt_per_1h\":min_max, \n",
    "                                                         \"avg_amt_per_1h\":min_max, \n",
    "                                                         \"num_trans_per_1h\":min_max,\n",
    "                                                         \"stdev_amt_per_12h\":min_max, \n",
    "                                                         \"avg_amt_per_12h\":min_max, \n",
    "                                                         \"num_trans_per_12h\":min_max},\n",
    "                               statistics_config={\"enabled\": True, \"histograms\": True, \"correlations\": False},\n",
    "                               version=1)"
   ]
  },
  {
   "cell_type": "code",
   "execution_count": 7,
   "id": "474c6a01",
   "metadata": {},
   "outputs": [
    {
     "name": "stdout",
     "output_type": "stream",
     "text": [
      "<hsfs.training_dataset.TrainingDataset object at 0x7fdd28a66090>"
     ]
    }
   ],
   "source": [
    "td_meta.save(query)"
   ]
  },
  {
   "cell_type": "code",
   "execution_count": 8,
   "id": "536d1bfe",
   "metadata": {},
   "outputs": [
    {
     "name": "stdout",
     "output_type": "stream",
     "text": [
      "+---------------+---------------+----------------+--------------+----------------+-----------------+-----------------+-----------------+-----------------+\n",
      "|avg_amt_per_10m|avg_amt_per_12h|stdev_amt_per_1h|avg_amt_per_1h|num_trans_per_1h|num_trans_per_12h|stdev_amt_per_12h|num_trans_per_10m|stdev_amt_per_10m|\n",
      "+---------------+---------------+----------------+--------------+----------------+-----------------+-----------------+-----------------+-----------------+\n",
      "|       1.005665|        1.03796|       1.0266877|     1.0247675|          1.0015|           1.0065|        1.0697409|            1.001|           1.0005|\n",
      "|        1.03907|       1.139612|          1.0005|       1.02391|           1.001|            1.003|        1.1538386|            1.001|           1.0005|\n",
      "|        1.04755|       1.318325|          1.0005|       5.18205|           1.001|            1.009|        1.9687029|            1.001|           1.0005|\n",
      "|       1.043745|      1.0632564|          1.0005|       1.02109|           1.001|            1.006|        1.0999271|            1.001|           1.0005|\n",
      "|       1.006885|       1.101762|          1.0005|      1.045685|           1.001|           1.0055|        1.1411338|            1.001|           1.0005|\n",
      "|         1.0099|      1.1035554|          1.0005|      1.046075|           1.001|            1.006|        1.1777302|            1.001|           1.0005|\n",
      "|        1.75089|      1.0588467|          1.0005|        1.2385|           1.001|           1.0035|        1.0908353|            1.001|           1.0005|\n",
      "|       1.001085|      1.0586371|       3.8128898|       2.65805|           1.002|            1.004|        1.0761116|            1.001|           1.0005|\n",
      "|       1.000665|       1.358466|       1.2214001|      1.206005|          1.0015|           1.0075|        1.8494561|            1.001|           1.0005|\n",
      "|        1.00264|      1.1111832|          1.0005|       1.35051|           1.001|           1.0045|        1.1633795|            1.001|           1.0005|\n",
      "|        1.05099|      1.1732512|       1.0785328|     1.1408975|          1.0015|            1.005|        1.1760855|            1.001|           1.0005|\n",
      "|        1.30523|      1.6181775|       2.3883066|     2.0242176|          1.0015|           1.0065|        2.3270547|            1.001|           1.0005|\n",
      "|        1.00766|       1.109039|       1.0183969|       1.01898|          1.0015|           1.0055|         1.171347|            1.001|           1.0005|\n",
      "|      1.0175675|      1.5450006|          1.0005|      1.032555|           1.001|            1.005|        2.3324296|           1.0015|        1.0237107|\n",
      "|       1.039175|      1.5020307|          1.0005|       2.68918|           1.001|            1.004|        1.7150314|            1.001|           1.0005|\n",
      "|       1.437465|       1.587175|       1.1406308|     1.2778575|          1.0015|            1.004|        2.3232758|            1.001|           1.0005|\n",
      "|        1.45408|      2.0839994|          1.0005|       1.02899|           1.001|            1.005|        2.4732418|            1.001|           1.0005|\n",
      "|        1.23047|      1.5117222|          1.0005|       1.04728|           1.001|            1.005|        2.1051917|            1.001|           1.0005|\n",
      "|        1.01566|       1.185298|       1.0169014|     1.0172175|          1.0015|           1.0055|        1.1831121|            1.001|           1.0005|\n",
      "|       1.031375|       1.082731|       1.1941308|     1.1309226|          1.0025|           1.0055|        1.1124095|            1.001|           1.0005|\n",
      "+---------------+---------------+----------------+--------------+----------------+-----------------+-----------------+-----------------+-----------------+\n",
      "only showing top 20 rows"
     ]
    }
   ],
   "source": [
    "td_meta.read().show()"
   ]
  },
  {
   "cell_type": "code",
   "execution_count": null,
   "id": "2ef58088",
   "metadata": {},
   "outputs": [],
   "source": []
  }
 ],
 "metadata": {
  "kernelspec": {
   "display_name": "PySpark",
   "language": "python",
   "name": "pysparkkernel"
  },
  "language_info": {
   "codemirror_mode": {
    "name": "python",
    "version": 3
   },
   "mimetype": "text/x-python",
   "name": "pyspark",
   "pygments_lexer": "python3"
  }
 },
 "nbformat": 4,
 "nbformat_minor": 5
}